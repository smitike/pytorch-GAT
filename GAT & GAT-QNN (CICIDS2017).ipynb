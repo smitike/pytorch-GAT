{
  "cells": [
    {
      "cell_type": "code",
      "source": [
        "!pip install python-igraph --quiet"
      ],
      "metadata": {
        "id": "Yc7Meu9D386W"
      },
      "execution_count": null,
      "outputs": []
    },
    {
      "cell_type": "code",
      "execution_count": 1,
      "metadata": {
        "id": "RjAT_CAePM0_"
      },
      "outputs": [],
      "source": [
        "# I always like to structure my imports into Python's native libs,\n",
        "# stuff I installed via conda/pip and local file imports (but we don't have those here)\n",
        "\n",
        "import pickle\n",
        "\n",
        "# Visualization related imports\n",
        "import matplotlib.pyplot as plt\n",
        "import networkx as nx\n",
        "# import igraph as ig\n",
        "\n",
        "# Main computation libraries\n",
        "import scipy.sparse as sp\n",
        "from scipy.sparse import csr_matrix\n",
        "\n",
        "import numpy as np\n",
        "\n",
        "# Deep learning related imports\n",
        "import torch"
      ]
    },
    {
      "cell_type": "code",
      "source": [
        "from google.colab import drive\n",
        "drive.mount('/content/drive')"
      ],
      "metadata": {
        "id": "2QWV3jzV3DMp",
        "outputId": "6966d904-ee9e-4e90-e3c6-8626d3129ad9",
        "colab": {
          "base_uri": "https://localhost:8080/"
        }
      },
      "execution_count": 2,
      "outputs": [
        {
          "output_type": "stream",
          "name": "stdout",
          "text": [
            "Mounted at /content/drive\n"
          ]
        }
      ]
    },
    {
      "cell_type": "code",
      "source": [
        "%cd drive\n",
        "%cd MyDrive\n",
        "%cd REU-repo\n",
        "%cd pytorch-GAT"
      ],
      "metadata": {
        "id": "OfC7gSVOSs9u",
        "outputId": "3ede26ea-c228-4a97-bad5-e47d0bdb53b1",
        "colab": {
          "base_uri": "https://localhost:8080/"
        }
      },
      "execution_count": 3,
      "outputs": [
        {
          "output_type": "stream",
          "name": "stdout",
          "text": [
            "/content/drive\n",
            "/content/drive/MyDrive\n",
            "/content/drive/MyDrive/REU-repo\n",
            "/content/drive/MyDrive/REU-repo/pytorch-GAT\n"
          ]
        }
      ]
    },
    {
      "cell_type": "markdown",
      "metadata": {
        "id": "VfhbPUmRPM0_"
      },
      "source": [
        "With that out of the way we've got the level 1 unlocked (Data 📜). 😍 Let's go!"
      ]
    },
    {
      "cell_type": "markdown",
      "metadata": {
        "id": "CsCVS4McPM0_"
      },
      "source": [
        "# Part 1: Understanding your data (become One with the data 📜❤️)\n"
      ]
    },
    {
      "cell_type": "code",
      "execution_count": 4,
      "metadata": {
        "id": "_TqeVK2aPM0_"
      },
      "outputs": [],
      "source": [
        "# First let's define these simple functions for loading/saving Pickle files - we need them for Cora\n",
        "\n",
        "# All Cora data is stored as pickle\n",
        "def pickle_read(path):\n",
        "    with open(path, 'rb') as file:\n",
        "        data = pickle.load(file)\n",
        "\n",
        "    return data\n",
        "\n",
        "def pickle_save(path, data):\n",
        "    with open(path, 'wb') as file:\n",
        "        pickle.dump(data, file, protocol=pickle.HIGHEST_PROTOCOL)"
      ]
    },
    {
      "cell_type": "markdown",
      "metadata": {
        "id": "q7PCYVmCPM0_"
      },
      "source": [
        "Now let's see how we can load Cora!"
      ]
    },
    {
      "cell_type": "markdown",
      "metadata": {
        "id": "Ev6aaanFPM0_"
      },
      "source": [
        "Nice, there are 2 more functions that I've used that we're yet to define. First let's see how we do **feature normalization** on Cora:"
      ]
    },
    {
      "cell_type": "code",
      "execution_count": 5,
      "metadata": {
        "id": "uuqWvQ5lPM0_"
      },
      "outputs": [],
      "source": [
        "def normalize_features_sparse(node_features_sparse):\n",
        "    assert sp.issparse(node_features_sparse), f'Expected a sparse matrix, got {node_features_sparse}.'\n",
        "    node_features_sum = np.array(node_features_sparse.sum(-1))  # sum features for every node feature vector\n",
        "\n",
        "    node_features_inv_sum = np.power(node_features_sum, -1).squeeze()\n",
        "\n",
        "    # Again certain sums will be 0 so 1/0 will give us inf so we replace those by 1 which is a neutral element for mul\n",
        "    node_features_inv_sum[np.isinf(node_features_inv_sum)] = 1.\n",
        "\n",
        "    # Create a diagonal matrix whose values on the diagonal come from node_features_inv_sum\n",
        "    diagonal_inv_features_sum_matrix = sp.diags(node_features_inv_sum)\n",
        "\n",
        "    # We return the normalized features.\n",
        "    return diagonal_inv_features_sum_matrix.dot(node_features_sparse)"
      ]
    },
    {
      "cell_type": "markdown",
      "metadata": {
        "id": "NcNuhhPrPM1A"
      },
      "source": [
        "It's basically making Cora's binary node feature vectors sum up to 1. Example if we had `[1, 0, 1, 0, 1]` (Cora's feature vectors are longer as we'll soon see but let's take this one for the time being), it will get transformed into `[0.33, 0, 0.33, 0, 0.33]`. Simple as that. It's always harder to understand the actual implementation, but conceptually, it's a piece of cake.\n",
        "\n",
        "That out of the way let's build up that **edge index**:"
      ]
    },
    {
      "cell_type": "code",
      "execution_count": 6,
      "metadata": {
        "id": "JwOowkCKPM1A"
      },
      "outputs": [],
      "source": [
        "def build_edge_index(adjacency_list_dict, num_of_nodes, add_self_edges=True):\n",
        "    source_nodes_ids, target_nodes_ids = [], []\n",
        "    seen_edges = set()\n",
        "\n",
        "    for src_node, neighboring_nodes in adjacency_list_dict.items():\n",
        "        for trg_node in neighboring_nodes:\n",
        "            # if this edge hasn't been seen so far we add it to the edge index (coalescing - removing duplicates)\n",
        "            if (src_node, trg_node) not in seen_edges:  # it'd be easy to explicitly remove self-edges (Cora has none..)\n",
        "                source_nodes_ids.append(src_node)\n",
        "                target_nodes_ids.append(trg_node)\n",
        "\n",
        "                seen_edges.add((src_node, trg_node))\n",
        "\n",
        "    if add_self_edges:\n",
        "        source_nodes_ids.extend(np.arange(num_of_nodes))\n",
        "        target_nodes_ids.extend(np.arange(num_of_nodes))\n",
        "\n",
        "    # shape = (2, E), where E is the number of edges in the graph\n",
        "    edge_index = np.row_stack((source_nodes_ids, target_nodes_ids))\n",
        "\n",
        "    return edge_index"
      ]
    },
    {
      "cell_type": "markdown",
      "metadata": {
        "id": "Ga-I_emKPM1A"
      },
      "source": [
        "Nice! Analyzing the shapes we see the following:\n",
        "1. Cora has 2708 nodes\n",
        "2. Each node has 1433 features (check out [data_loading.py](https://github.com/gordicaleksa/pytorch-GAT/blob/main/utils/data_loading.py) for much more detail)\n",
        "3. We have 13264 edges! (including the self edges)\n",
        "4. We have 140 training nodes\n",
        "5. We have 500 val nodes\n",
        "6. We have 1000 test nodes\n",
        "\n",
        "Additionally almost all of the data is of int 64 type. Why? Well it's a constraint that PyTorch is imposing upon us.\n",
        "The loss function `nn.CrossEntropyLoss` and `index_select` functions require torch.long (i.e. 64 bit integer) - that's it.\n",
        "\n",
        "* `node_labels` is int64 because of `nn.CrossEntropyLoss`\n",
        "* other vars are int64 because of `index_select`\n",
        "\n",
        "On the \"side note\", it's always a **good idea to test your code as you're progressing.**\n",
        "\n",
        "Data loading is completely orthogonal to the rest of this notebook so we can test it, standalone, and make sure the shapes and datatypes make sense. I use this strategy while developing projects like this one (and in general).\n",
        "\n",
        "I start with data, I add the loading functionality, I add some visualizations and only then do I usually start developing the deep learning model itself.\n",
        "\n",
        "Visualizations are a huge bonus, so let's develop them."
      ]
    },
    {
      "cell_type": "markdown",
      "metadata": {
        "id": "lsduR1nlPM1A"
      },
      "source": [
        "# Visualizing your data 🔮👓\n",
        "\n",
        "Let's start by understanding the degree distribution of nodes in Cora - i.e. how many input/output edges do nodes have, a certain measure of connectedness of the graph.\n",
        "\n",
        "Run the following cell:"
      ]
    },
    {
      "cell_type": "markdown",
      "metadata": {
        "id": "s9lH65caPM1B"
      },
      "source": [
        "You can immediately notice a couple of things:\n",
        "* The top 2 plots are the same, because we treat Cora as an undirected graph (even though it should naturally be modeled as a directed graph)\n",
        "* Certain nodes have a huge number of edges (the peak in the middle) but most nodes have far less edges\n",
        "* The third plot nicely visualizes this in the form of a histogram - most nodes have only `2-5` edges (hence the peak on the leftmost side)\n",
        "\n",
        "Ok, we're starting to get some valuable insight into Cora, let's continue further and literally visualize/see Cora.\n",
        "\n",
        "The following cell will plot Cora, run it. (*whispers: run it*)"
      ]
    },
    {
      "cell_type": "markdown",
      "metadata": {
        "id": "yxfKFDCWPM1B"
      },
      "source": [
        "# Part 2: Understanding GAT's inner workings 💻🦄\n",
        "\n",
        "First let's create a high level class where we'll build up `GAT` from `GatLayer` objects.\n",
        "\n",
        "It basically just stacks the layers into a nn.Sequential object and additionally since nn.Sequential expects a single input (and it has a single output) I just pack the data (features, edge index) into a tuple - *pure syntactic sugar*."
      ]
    },
    {
      "cell_type": "markdown",
      "metadata": {
        "id": "ojPJTBo3PM1B"
      },
      "source": [
        "Now for the fun part let's define the layer.\n",
        "\n",
        "I really don't think that I can explain it any better, using words, than you taking your time to digest the code and the comments.\n",
        "\n",
        "Also make sure to check out [my video on GAT](https://www.youtube.com/watch?v=uFLeKkXWq2c) before you start losing time trying to figure it out \"from scratch\". It's always good to have some theoretical background at your hand."
      ]
    },
    {
      "cell_type": "markdown",
      "metadata": {
        "id": "z7AM0QguPM1B"
      },
      "source": [
        "# Part 3: Training GAT 💪 (Classification on Cora!)\n",
        "\n",
        "Phew, well the hardest part is behind us. Let's know create a simple training loop where the goal is to learn to classify Cora nodes.\n",
        "\n",
        "But first let's define some relevant constants."
      ]
    },
    {
      "cell_type": "code",
      "execution_count": 7,
      "metadata": {
        "id": "_jfd0-GJPM1C"
      },
      "outputs": [],
      "source": [
        "from torch.utils.tensorboard import SummaryWriter\n",
        "import enum\n",
        "import os\n",
        "\n",
        "\n",
        "# 3 different model training/eval phases used in train.py\n",
        "class LoopPhase(enum.Enum):\n",
        "    TRAIN = 0,\n",
        "    VAL = 1,\n",
        "    TEST = 2\n",
        "\n",
        "\n",
        "writer = SummaryWriter()  # (tensorboard) writer will output to ./runs/ directory by default\n",
        "\n",
        "\n",
        "# Global vars used for early stopping. After some number of epochs (as defined by the patience_period var) without any\n",
        "# improvement on the validation dataset (measured via accuracy metric), we'll break out from the training loop.\n",
        "BEST_VAL_ACC = 0\n",
        "BEST_VAL_LOSS = 0\n",
        "PATIENCE_CNT = 0\n",
        "\n",
        "BINARIES_PATH = os.path.join(os.getcwd(), 'models', 'binaries')\n",
        "CHECKPOINTS_PATH = os.path.join(os.getcwd(), 'models', 'checkpoints')\n",
        "\n",
        "# Make sure these exist as the rest of the code assumes it\n",
        "os.makedirs(BINARIES_PATH, exist_ok=True)\n",
        "os.makedirs(CHECKPOINTS_PATH, exist_ok=True)"
      ]
    },
    {
      "cell_type": "markdown",
      "metadata": {
        "id": "w0m-V6FePM1C"
      },
      "source": [
        "Also, let's define a couple of functions that will be useful while training the model.\n",
        "\n",
        "The training state contains a lot of useful `metadata` which we can later use. You can imagine that saving the test accuracy of your model is important, especially when you're training your models on a cloud - it makes the organization so much better."
      ]
    },
    {
      "cell_type": "code",
      "source": [
        "!pip install GitPython --quiet"
      ],
      "metadata": {
        "colab": {
          "base_uri": "https://localhost:8080/"
        },
        "id": "nY-FEnhWG4TB",
        "outputId": "57d530f6-9542-44be-c653-71830eb44aaf"
      },
      "execution_count": 8,
      "outputs": [
        {
          "output_type": "stream",
          "name": "stdout",
          "text": [
            "\u001b[?25l   \u001b[90m━━━━━━━━━━━━━━━━━━━━━━━━━━━━━━━━━━━━━━━━\u001b[0m \u001b[32m0.0/207.3 kB\u001b[0m \u001b[31m?\u001b[0m eta \u001b[36m-:--:--\u001b[0m\r\u001b[2K   \u001b[90m━━━━━━━━━━━━━━━━━━━━━━━━━━━━━━━━━━━━━━━━\u001b[0m \u001b[32m207.3/207.3 kB\u001b[0m \u001b[31m15.8 MB/s\u001b[0m eta \u001b[36m0:00:00\u001b[0m\n",
            "\u001b[?25h\u001b[?25l   \u001b[90m━━━━━━━━━━━━━━━━━━━━━━━━━━━━━━━━━━━━━━━━\u001b[0m \u001b[32m0.0/62.7 kB\u001b[0m \u001b[31m?\u001b[0m eta \u001b[36m-:--:--\u001b[0m\r\u001b[2K   \u001b[90m━━━━━━━━━━━━━━━━━━━━━━━━━━━━━━━━━━━━━━━━\u001b[0m \u001b[32m62.7/62.7 kB\u001b[0m \u001b[31m5.9 MB/s\u001b[0m eta \u001b[36m0:00:00\u001b[0m\n",
            "\u001b[?25h"
          ]
        }
      ]
    },
    {
      "cell_type": "code",
      "execution_count": 9,
      "metadata": {
        "id": "bNhb_6IUPM1C"
      },
      "outputs": [],
      "source": [
        "import git\n",
        "import re  # regex\n",
        "\n",
        "\n",
        "def get_training_state(training_config, model):\n",
        "    base_path = '/content/drive/MyDrive/REU-repo'\n",
        "    repo_path = os.path.join(base_path, 'pytorch-GAT')\n",
        "\n",
        "    training_state = {\n",
        "        \"commit_hash\": git.Repo(repo_path, search_parent_directories=True).head.object.hexsha,\n",
        "\n",
        "        # Training details\n",
        "        \"dataset_name\": training_config['dataset_name'],\n",
        "        \"num_of_epochs\": training_config['num_of_epochs'],\n",
        "        \"test_acc\": training_config['test_acc'],\n",
        "\n",
        "        # Model structure\n",
        "        \"num_of_layers\": training_config['num_of_layers'],\n",
        "        \"num_heads_per_layer\": training_config['num_heads_per_layer'],\n",
        "        \"num_features_per_layer\": training_config['num_features_per_layer'],\n",
        "        \"add_skip_connection\": training_config['add_skip_connection'],\n",
        "        \"bias\": training_config['bias'],\n",
        "        \"dropout\": training_config['dropout'],\n",
        "\n",
        "        # Model state\n",
        "        \"state_dict\": model.state_dict()\n",
        "    }\n",
        "\n",
        "    return training_state\n",
        "\n",
        "\n",
        "def print_model_metadata(training_state):\n",
        "    header = f'\\n{\"*\"*5} Model training metadata: {\"*\"*5}'\n",
        "    print(header)\n",
        "\n",
        "    for key, value in training_state.items():\n",
        "        if key != 'state_dict':  # don't print state_dict just a bunch of numbers...\n",
        "            print(f'{key}: {value}')\n",
        "    print(f'{\"*\" * len(header)}\\n')\n",
        "\n",
        "\n",
        "# This one makes sure we don't overwrite the valuable model binaries (feel free to ignore - not crucial to GAT method)\n",
        "def get_available_binary_name():\n",
        "    prefix = 'gat'\n",
        "\n",
        "    def valid_binary_name(binary_name):\n",
        "        # First time you see raw f-string? Don't worry the only trick is to double the brackets.\n",
        "        pattern = re.compile(rf'{prefix}_[0-9]{{6}}\\.pth')\n",
        "        return re.fullmatch(pattern, binary_name) is not None\n",
        "\n",
        "    # Just list the existing binaries so that we don't overwrite them but write to a new one\n",
        "    valid_binary_names = list(filter(valid_binary_name, os.listdir(BINARIES_PATH)))\n",
        "    if len(valid_binary_names) > 0:\n",
        "        last_binary_name = sorted(valid_binary_names)[-1]\n",
        "        new_suffix = int(last_binary_name.split('.')[0][-6:]) + 1  # increment by 1\n",
        "        return f'{prefix}_{str(new_suffix).zfill(6)}.pth'\n",
        "    else:\n",
        "        return f'{prefix}_000000.pth'"
      ]
    },
    {
      "cell_type": "markdown",
      "metadata": {
        "id": "vvEQ2HkEPM1C"
      },
      "source": [
        "Nice, now `argparse` is just a nice way to **organize** your program settings:"
      ]
    },
    {
      "cell_type": "code",
      "source": [
        "import torch\n",
        "\n",
        "def save_model(model, path):\n",
        "    torch.save(model.state_dict(), path)\n",
        "\n",
        "def load_model(model, path, device):\n",
        "    model.load_state_dict(torch.load(path, map_location=device), strict=False)\n",
        "    return model\n"
      ],
      "metadata": {
        "id": "oZfr2SrqgmyX"
      },
      "execution_count": 10,
      "outputs": []
    },
    {
      "cell_type": "code",
      "execution_count": 11,
      "metadata": {
        "id": "p2AER6CQPM1C"
      },
      "outputs": [],
      "source": [
        "def get_main_loop(config, gat, cross_entropy_loss, optimizer, node_features, node_labels, edge_index, train_indices, val_indices, test_indices, patience_period, time_start):\n",
        "\n",
        "    node_dim = 0  # this will likely change as soon as I add an inductive example (Cora is transductive)\n",
        "\n",
        "    train_labels = node_labels.index_select(node_dim, train_indices)\n",
        "    val_labels = node_labels.index_select(node_dim, val_indices)\n",
        "    test_labels = node_labels.index_select(node_dim, test_indices)\n",
        "\n",
        "    # node_features shape = (N, FIN), edge_index shape = (2, E)\n",
        "    graph_data = (node_features, edge_index)  # I pack data into tuples because GAT uses nn.Sequential which requires it\n",
        "\n",
        "    def get_node_indices(phase, batch_indices=None):\n",
        "        if phase == LoopPhase.TRAIN:\n",
        "            return batch_indices if batch_indices is not None else train_indices\n",
        "        elif phase == LoopPhase.VAL:\n",
        "            return val_indices\n",
        "        else:\n",
        "            return test_indices\n",
        "\n",
        "    def get_node_labels(phase, batch_indices=None):\n",
        "        if phase == LoopPhase.TRAIN:\n",
        "            return node_labels.index_select(node_dim, batch_indices) if batch_indices is not None else train_labels\n",
        "        elif phase == LoopPhase.VAL:\n",
        "            return val_labels\n",
        "        else:\n",
        "            return test_labels\n",
        "\n",
        "    def main_loop(phase, epoch=0, batch_indices=None):\n",
        "        global BEST_VAL_ACC, BEST_VAL_LOSS, PATIENCE_CNT, writer\n",
        "\n",
        "        if phase == LoopPhase.TRAIN:\n",
        "            gat.train()\n",
        "        else:\n",
        "            gat.eval()\n",
        "\n",
        "        node_indices = get_node_indices(phase, batch_indices)\n",
        "        gt_node_labels = get_node_labels(phase, batch_indices)  # gt stands for ground truth\n",
        "\n",
        "        nodes_unnormalized_scores = gat(graph_data)[0].index_select(node_dim, node_indices)\n",
        "\n",
        "        loss = cross_entropy_loss(nodes_unnormalized_scores, gt_node_labels)\n",
        "\n",
        "        if phase == LoopPhase.TRAIN:\n",
        "            optimizer.zero_grad()  # clean the trainable weights gradients in the computational graph (.grad fields)\n",
        "            loss.backward()  # compute the gradients for every trainable weight in the computational graph\n",
        "            optimizer.step()  # apply the gradients to weights\n",
        "\n",
        "        class_predictions = torch.argmax(nodes_unnormalized_scores, dim=-1)\n",
        "        accuracy = torch.sum(torch.eq(class_predictions, gt_node_labels).long()).item() / len(gt_node_labels)\n",
        "\n",
        "        #\n",
        "        # Logging\n",
        "        #\n",
        "\n",
        "        if phase == LoopPhase.TRAIN:\n",
        "            # Log metrics\n",
        "            if config['enable_tensorboard']:\n",
        "                writer.add_scalar('training_loss', loss.item(), epoch)\n",
        "                writer.add_scalar('training_acc', accuracy, epoch)\n",
        "\n",
        "            # Save model checkpoint\n",
        "            if config['checkpoint_freq'] is not None and (epoch + 1) % config['checkpoint_freq'] == 0:\n",
        "                ckpt_model_name = f\"gat_ckpt_epoch_{epoch + 1}.pth\"\n",
        "                config['test_acc'] = -1\n",
        "                torch.save(get_training_state(config, gat), os.path.join(CHECKPOINTS_PATH, ckpt_model_name))\n",
        "\n",
        "        elif phase == LoopPhase.VAL:\n",
        "            # Log metrics\n",
        "            if config['enable_tensorboard']:\n",
        "                writer.add_scalar('val_loss', loss.item(), epoch)\n",
        "                writer.add_scalar('val_acc', accuracy, epoch)\n",
        "\n",
        "            # Log to console\n",
        "            if config['console_log_freq'] is not None and epoch % config['console_log_freq'] == 0:\n",
        "                print(f'GAT training: time elapsed= {(time.time() - time_start):.2f} [s] | epoch={epoch + 1} | val acc={accuracy}')\n",
        "\n",
        "            if patience_period is not None:\n",
        "                if accuracy > BEST_VAL_ACC or loss.item() < BEST_VAL_LOSS:\n",
        "                    BEST_VAL_ACC = max(accuracy, BEST_VAL_ACC)  # keep track of the best validation accuracy so far\n",
        "                    BEST_VAL_LOSS = min(loss.item(), BEST_VAL_LOSS)\n",
        "                    PATIENCE_CNT = 0  # reset the counter every time we encounter new best accuracy\n",
        "                else:\n",
        "                    PATIENCE_CNT += 1  # otherwise keep counting\n",
        "\n",
        "                if PATIENCE_CNT >= patience_period:\n",
        "                    raise Exception('Stopping the training, the universe has no more patience for this training.')\n",
        "\n",
        "        else:\n",
        "            return accuracy  # in the case of test phase we just report back the test accuracy\n",
        "\n",
        "        return accuracy\n",
        "\n",
        "    return main_loop  # return the decorated function\n"
      ]
    },
    {
      "cell_type": "markdown",
      "source": [
        "# CICIDS2017 dataset"
      ],
      "metadata": {
        "id": "EqYNkJFh6c71"
      }
    },
    {
      "cell_type": "code",
      "source": [
        "\"\"\"\n",
        "    Contains constants needed for data loading and visualization.\n",
        "\"\"\"\n",
        "\n",
        "import os\n",
        "import enum\n",
        "import zipfile\n",
        "import pandas as pd\n",
        "\n",
        "# Supported datasets - only CICIDS2017 in this notebook\n",
        "class DatasetType(enum.Enum):\n",
        "    CICIDS2017 = 0\n",
        "\n",
        "# Networkx is not precisely made with drawing as its main feature but I experimented with it a bit\n",
        "class GraphVisualizationTool(enum.Enum):\n",
        "    NETWORKX = 0,\n",
        "    IGRAPH = 1\n",
        "\n",
        "# Define the path to the data directory\n",
        "DATA_DIR_PATH = os.path.join(os.getcwd(), 'data')\n",
        "CICIDS2017_ZIP_PATH = os.path.join(DATA_DIR_PATH, 'archive.zip')\n",
        "CICIDS2017_PATH = os.path.join(DATA_DIR_PATH, 'cic-ids2017')\n",
        "\n",
        "# Ensure the data directory exists\n",
        "if not os.path.exists(CICIDS2017_PATH):\n",
        "    os.makedirs(CICIDS2017_PATH)\n",
        "\n",
        "# List all CSV files in the CICIDS2017_PATH directory\n",
        "csv_files = [f for f in os.listdir(CICIDS2017_PATH) if f.endswith('.csv')]\n",
        "\n",
        "# Check if there are no CSV files\n",
        "if not csv_files:\n",
        "    print(f\"No CSV files found in {CICIDS2017_PATH}.\")\n",
        "else:\n",
        "    # Initialize an empty list to store DataFrames\n",
        "    dfs = []\n",
        "\n",
        "    # Read each CSV file and append to the list\n",
        "    for csv_file in csv_files:\n",
        "        file_path = os.path.join(CICIDS2017_PATH, csv_file)\n",
        "        df = pd.read_csv(file_path)\n",
        "        dfs.append(df)\n",
        "\n",
        "    # Concatenate all DataFrames into a single DataFrame\n",
        "    data = pd.concat(dfs, ignore_index=True)\n",
        "\n",
        "    # Strip any whitespace from the column names\n",
        "    data.columns = data.columns.str.strip()\n",
        "\n",
        "    # Basic information about the dataset\n",
        "    print(f\"Number of samples: {data.shape[0]}\")\n",
        "    print(f\"Number of features: {data.shape[1] - 1}\")  # Exclude the label column assuming it's the last one\n",
        "\n",
        "    if 'Label' in data.columns:\n",
        "        num_classes = data['Label'].nunique()  # Assuming 'Label' is the label column\n",
        "        print(f\"Number of classes: {num_classes}\")\n",
        "    else:\n",
        "        print(\"No 'Label' column found in the dataset.\")\n"
      ],
      "metadata": {
        "colab": {
          "base_uri": "https://localhost:8080/"
        },
        "id": "kNfp1ZzR6TR-",
        "outputId": "991b4d92-b520-4f1f-e863-9d65a7848e1a"
      },
      "execution_count": 12,
      "outputs": [
        {
          "output_type": "stream",
          "name": "stdout",
          "text": [
            "Number of samples: 2830743\n",
            "Number of features: 78\n",
            "Number of classes: 15\n"
          ]
        }
      ]
    },
    {
      "cell_type": "code",
      "source": [
        "from sklearn.preprocessing import LabelEncoder, StandardScaler\n",
        "import torch\n",
        "import numpy as np\n",
        "import os\n",
        "import pandas as pd\n",
        "import enum\n",
        "\n",
        "def load_graph_data(training_config, device, data_fraction=1.0):\n",
        "    dataset_name = training_config['dataset_name'].lower()\n",
        "    should_visualize = training_config['should_visualize']\n",
        "\n",
        "    if dataset_name == DatasetType.CICIDS2017.name.lower():\n",
        "        # Use only a fraction of the data\n",
        "        num_samples = int(len(data) * data_fraction)\n",
        "        data_subset = data.iloc[:num_samples]\n",
        "\n",
        "        # Map all attack labels to 'Anomaly'\n",
        "        data.loc[:, 'Label'] = data['Label'].apply(lambda x: 'Normal' if x == 'BENIGN' else 'Anomaly')\n",
        "        # Fit the LabelEncoder on the entire dataset\n",
        "        label_encoder = LabelEncoder()\n",
        "        label_encoder.fit(data['Label'])\n",
        "        num_classes = len(label_encoder.classes_)\n",
        "        print(\"Unique classes:\", label_encoder.classes_)\n",
        "\n",
        "        # Encode labels\n",
        "        data_subset.loc[:, 'Label'] = label_encoder.transform(data_subset['Label'])\n",
        "        print(\"Encoded labels:\", np.unique(data_subset['Label']))\n",
        "\n",
        "        # Extract features and labels\n",
        "        # labels = data_subset['Label'].astype('category')\n",
        "        # unique_class_names = labels.cat.categories.values  # Get unique class names\n",
        "        # print(\"Unique class names:\", unique_class_names)\n",
        "        # encoded_labels = labels.cat.codes.values\n",
        "        # num_classes = len(labels.cat.categories)  # Calculate the number of unique classes\n",
        "        # print(\"Encoded labels:\", np.unique(encoded_labels))  # Print encoded labels to verify\n",
        "\n",
        "        # Define the most important numerical features (excluding time-based features)\n",
        "        numerical_features = [\n",
        "            'Flow Duration', 'Flow Bytes/s', 'Flow Packets/s', 'Total Fwd Packets', 'Total Backward Packets',\n",
        "            'Fwd Packet Length Mean', 'Bwd Packet Length Mean', 'Fwd Packet Length Max', 'Bwd Packet Length Max',\n",
        "            'Packet Length Mean', 'Packet Length Std', 'Min Packet Length', 'Max Packet Length', 'SYN Flag Count',\n",
        "            'PSH Flag Count', 'ACK Flag Count', 'URG Flag Count', 'RST Flag Count', 'Avg Fwd Segment Size',\n",
        "            'Avg Bwd Segment Size', 'Fwd Header Length', 'Bwd Header Length', 'Average Packet Size'\n",
        "        ]\n",
        "\n",
        "        # Extract numerical data and scale it\n",
        "        numerical_data = data_subset[numerical_features].values\n",
        "\n",
        "        # Handle infinite values\n",
        "        numerical_data = np.where(np.isinf(numerical_data), np.nan, numerical_data)\n",
        "\n",
        "        # Replace NaNs with column mean\n",
        "        col_mean = np.nanmean(numerical_data, axis=0)\n",
        "        inds = np.where(np.isnan(numerical_data))\n",
        "        numerical_data[inds] = np.take(col_mean, inds[1])\n",
        "\n",
        "        scaler = StandardScaler()\n",
        "        scaled_numerical_data = scaler.fit_transform(numerical_data)\n",
        "\n",
        "        # Combine features\n",
        "        features = scaled_numerical_data\n",
        "\n",
        "        print(\"Features shape:\", features.shape)\n",
        "        print(\"Features dtype:\", features.dtype)\n",
        "        print(\"Any NaN values in features:\", np.isnan(features).any())\n",
        "        print(\"Any infinite values in features:\", np.isinf(features).any())\n",
        "        print(\"num_classes:\", num_classes)\n",
        "\n",
        "\n",
        "        # Create PyTorch tensors\n",
        "        node_features = torch.tensor(features, dtype=torch.float32).to(device)\n",
        "\n",
        "        # Create device mapping\n",
        "        devices = set(data_subset['Destination Port'].values)\n",
        "        devices.update(data_subset['Destination Port'].values)\n",
        "        device_to_id = {device: idx for idx, device in enumerate(devices)}\n",
        "\n",
        "        # Build edge list based on Destination Port\n",
        "        source_nodes_ids, target_nodes_ids = [], []\n",
        "        for index, row in data_subset.iterrows():\n",
        "            src_device = device_to_id[row['Destination Port']]\n",
        "            dst_device = device_to_id[row['Destination Port']]\n",
        "            source_nodes_ids.append(src_device)\n",
        "            target_nodes_ids.append(dst_device)\n",
        "            target_nodes_ids.append(src_device)  # Assuming bidirectional connections\n",
        "            source_nodes_ids.append(dst_device)\n",
        "\n",
        "        edge_index = np.row_stack((source_nodes_ids, target_nodes_ids))\n",
        "\n",
        "        # Convert to dense PyTorch tensors\n",
        "        edge_index = torch.tensor(edge_index, dtype=torch.long, device=device)\n",
        "        node_labels = torch.tensor(data_subset['Label'].astype(int).values, dtype=torch.long).to(device)\n",
        "        node_features = torch.tensor(features, dtype=torch.float32, device=device)\n",
        "\n",
        "        # Define the new split percentages\n",
        "        test_split = 0.5\n",
        "        val_split = 0.3\n",
        "        train_split = 0.2\n",
        "\n",
        "        # Ensure the splits are taken from the 10% subset\n",
        "        num_samples = node_features.shape[0]\n",
        "        test_size = int(0.5 * num_samples)\n",
        "        val_size = int(0.3 * num_samples)\n",
        "        train_size = num_samples - test_size - val_size\n",
        "\n",
        "\n",
        "        # Ensure splits sum up to the number of samples\n",
        "        assert train_size + val_size + test_size == num_samples\n",
        "\n",
        "        # Generate indices for the splits\n",
        "        train_indices = torch.arange(train_size, dtype=torch.long, device=device)\n",
        "        val_indices = torch.arange(train_size, train_size + val_size, dtype=torch.long, device=device)\n",
        "        test_indices = torch.arange(train_size + val_size, num_samples, dtype=torch.long, device=device)\n",
        "\n",
        "        return node_features, node_labels, edge_index, train_indices, val_indices, test_indices, num_classes\n",
        "    else:\n",
        "        raise Exception(f'{dataset_name} not yet supported.')"
      ],
      "metadata": {
        "id": "NeHM3P9y6Xrw"
      },
      "execution_count": 13,
      "outputs": []
    },
    {
      "cell_type": "code",
      "source": [
        "# Let's just define dummy visualization functions for now - just to stop Python interpreter from complaining!\n",
        "# We'll define them in a moment, properly, I swear.\n",
        "\n",
        "def plot_in_out_degree_distributions():\n",
        "    pass\n",
        "\n",
        "def visualize_graph():\n",
        "    pass\n",
        "\n",
        "device = torch.device(\"cuda\" if torch.cuda.is_available() else \"cpu\")\n",
        "\n",
        "config = {\n",
        "    'dataset_name': DatasetType.CICIDS2017.name,\n",
        "    'should_visualize': False\n",
        "}\n",
        "\n",
        "# Load the data\n",
        "data_fraction = 0.1  # Use 10% of the dataset for example\n",
        "node_features, node_labels, edge_index, train_indices, val_indices, test_indices, num_classes = load_graph_data(config, device, data_fraction=data_fraction)\n",
        "\n",
        "# Print the shapes and types of the tensors\n",
        "print(node_features.shape, node_features.dtype)\n",
        "print(node_labels.shape, node_labels.dtype)\n",
        "print(edge_index.shape, edge_index.dtype)\n",
        "print(train_indices.shape, train_indices.dtype)\n",
        "print(val_indices.shape, val_indices.dtype)\n",
        "print(test_indices.shape, test_indices.dtype)"
      ],
      "metadata": {
        "colab": {
          "base_uri": "https://localhost:8080/"
        },
        "id": "A58s6fQB64UE",
        "outputId": "8c8f07dd-37f7-4825-fb1b-1c288039be7c"
      },
      "execution_count": 14,
      "outputs": [
        {
          "output_type": "stream",
          "name": "stdout",
          "text": [
            "Unique classes: ['Anomaly' 'Normal']\n",
            "Encoded labels: [0 1]\n",
            "Features shape: (283074, 23)\n",
            "Features dtype: float64\n",
            "Any NaN values in features: False\n",
            "Any infinite values in features: False\n",
            "num_classes: 2\n",
            "torch.Size([283074, 23]) torch.float32\n",
            "torch.Size([283074]) torch.int64\n",
            "torch.Size([2, 566148]) torch.int64\n",
            "torch.Size([56615]) torch.int64\n",
            "torch.Size([84922]) torch.int64\n",
            "torch.Size([141537]) torch.int64\n"
          ]
        }
      ]
    },
    {
      "cell_type": "code",
      "source": [
        "!pip install torch-geometric --quiet"
      ],
      "metadata": {
        "colab": {
          "base_uri": "https://localhost:8080/"
        },
        "id": "AecnJQr1L5Cu",
        "outputId": "0e6f1584-3850-485e-9f27-ef7f0c1e4fd9"
      },
      "execution_count": 15,
      "outputs": [
        {
          "output_type": "stream",
          "name": "stdout",
          "text": [
            "\u001b[?25l     \u001b[90m━━━━━━━━━━━━━━━━━━━━━━━━━━━━━━━━━━━━━━━━\u001b[0m \u001b[32m0.0/64.2 kB\u001b[0m \u001b[31m?\u001b[0m eta \u001b[36m-:--:--\u001b[0m\r\u001b[2K     \u001b[90m━━━━━━━━━━━━━━━━━━━━━━━━━━━━━━━━━━━━━━━━\u001b[0m \u001b[32m64.2/64.2 kB\u001b[0m \u001b[31m5.3 MB/s\u001b[0m eta \u001b[36m0:00:00\u001b[0m\n",
            "\u001b[?25h\u001b[?25l   \u001b[90m━━━━━━━━━━━━━━━━━━━━━━━━━━━━━━━━━━━━━━━━\u001b[0m \u001b[32m0.0/1.1 MB\u001b[0m \u001b[31m?\u001b[0m eta \u001b[36m-:--:--\u001b[0m\r\u001b[2K   \u001b[90m━━━━━━━━━━━━━━━━━━━━━━━━━━━━━━━━━━━━━━━━\u001b[0m \u001b[32m1.1/1.1 MB\u001b[0m \u001b[31m50.4 MB/s\u001b[0m eta \u001b[36m0:00:00\u001b[0m\n",
            "\u001b[?25h"
          ]
        }
      ]
    },
    {
      "cell_type": "code",
      "source": [
        "import time\n",
        "# CIC dataset\n",
        "import torch\n",
        "import torch.nn as nn\n",
        "from torch.optim import Adam\n",
        "from torch_geometric.data import Data, DataLoader\n",
        "from torch.utils.data import TensorDataset\n",
        "\n",
        "\n",
        "class GATLayer(nn.Module):\n",
        "    src_nodes_dim = 0\n",
        "    trg_nodes_dim = 1\n",
        "    # nodes_dim = 0\n",
        "    head_dim = 1\n",
        "\n",
        "    def __init__(self, num_in_features, num_out_features, num_of_heads, concat=True, activation=nn.ELU(), dropout_prob=0.6, add_skip_connection=True, bias=True, log_attention_weights=False):\n",
        "        super().__init__()\n",
        "        self.nodes_dim = 0\n",
        "        self.num_of_heads = num_of_heads\n",
        "        self.num_out_features = num_out_features\n",
        "        self.concat = concat\n",
        "        self.add_skip_connection = add_skip_connection\n",
        "        self.linear_proj = nn.Linear(num_in_features, num_of_heads * num_out_features, bias=False)\n",
        "        self.scoring_fn_target = nn.Parameter(torch.Tensor(1, num_of_heads, num_out_features))\n",
        "        self.scoring_fn_source = nn.Parameter(torch.Tensor(1, num_of_heads, num_out_features))\n",
        "        if bias and concat:\n",
        "            self.bias = nn.Parameter(torch.Tensor(num_of_heads * num_out_features))\n",
        "        elif bias and not concat:\n",
        "            self.bias = nn.Parameter(torch.Tensor(num_out_features))\n",
        "        else:\n",
        "            self.register_parameter('bias', None)\n",
        "        if add_skip_connection:\n",
        "            self.skip_proj = nn.Linear(num_in_features, num_of_heads * num_out_features, bias=False)\n",
        "        else:\n",
        "            self.register_parameter('skip_proj', None)\n",
        "        self.leakyReLU = nn.LeakyReLU(0.2)\n",
        "        self.activation = activation\n",
        "        self.dropout = nn.Dropout(p=dropout_prob)\n",
        "        self.log_attention_weights = log_attention_weights\n",
        "        self.attention_weights = None\n",
        "        self.init_params()\n",
        "\n",
        "    def forward(self, data):\n",
        "        in_nodes_features, edge_index = data\n",
        "        num_of_nodes = in_nodes_features.shape[self.nodes_dim]\n",
        "        assert edge_index.shape[0] == 2, f'Expected edge index with shape=(2,E) got {edge_index.shape}'\n",
        "        in_nodes_features = self.dropout(in_nodes_features)\n",
        "        nodes_features_proj = self.linear_proj(in_nodes_features).view(-1, self.num_of_heads, self.num_out_features)\n",
        "        nodes_features_proj = self.dropout(nodes_features_proj)\n",
        "        scores_source = (nodes_features_proj * self.scoring_fn_source).sum(dim=-1)\n",
        "        scores_target = (nodes_features_proj * self.scoring_fn_target).sum(dim=-1)\n",
        "        scores_source_lifted, scores_target_lifted, nodes_features_proj_lifted = self.lift(scores_source, scores_target, nodes_features_proj, edge_index)\n",
        "        scores_per_edge = self.leakyReLU(scores_source_lifted + scores_target_lifted)\n",
        "        attentions_per_edge = self.neighborhood_aware_softmax(scores_per_edge, edge_index[self.trg_nodes_dim], num_of_nodes)\n",
        "        attentions_per_edge = self.dropout(attentions_per_edge)\n",
        "        nodes_features_proj_lifted_weighted = nodes_features_proj_lifted * attentions_per_edge\n",
        "        out_nodes_features = self.aggregate_neighbors(nodes_features_proj_lifted_weighted, edge_index, in_nodes_features, num_of_nodes)\n",
        "        out_nodes_features = self.skip_concat_bias(attentions_per_edge, in_nodes_features, out_nodes_features)\n",
        "        return (out_nodes_features, edge_index)\n",
        "\n",
        "    def neighborhood_aware_softmax(self, scores_per_edge, trg_index, num_of_nodes):\n",
        "        scores_per_edge = scores_per_edge - scores_per_edge.max()\n",
        "        exp_scores_per_edge = scores_per_edge.exp()\n",
        "        neigborhood_aware_denominator = self.sum_edge_scores_neighborhood_aware(exp_scores_per_edge, trg_index, num_of_nodes)\n",
        "        attentions_per_edge = exp_scores_per_edge / (neigborhood_aware_denominator + 1e-16)\n",
        "        return attentions_per_edge.unsqueeze(-1)\n",
        "\n",
        "    def sum_edge_scores_neighborhood_aware(self, exp_scores_per_edge, trg_index, num_of_nodes):\n",
        "        trg_index_broadcasted = self.explicit_broadcast(trg_index, exp_scores_per_edge)\n",
        "        # print(f\"trg_index_broadcasted shape: {trg_index_broadcasted.shape}\")\n",
        "        # print(f\"exp_scores_per_edge shape: {exp_scores_per_edge.shape}\")\n",
        "        # Ensure trg_index_broadcasted is within valid range\n",
        "        trg_index_broadcasted = torch.clamp(trg_index_broadcasted, 0, num_of_nodes - 1)\n",
        "        size = list(exp_scores_per_edge.shape)\n",
        "        size[self.nodes_dim] = num_of_nodes\n",
        "        neighborhood_sums = torch.zeros(size, dtype=exp_scores_per_edge.dtype, device=exp_scores_per_edge.device)\n",
        "        # Debugging information\n",
        "        # print(f\"neighborhood_sums shape: {neighborhood_sums.shape}\")\n",
        "        # print(f\"trg_index max value: {trg_index.max()}\")\n",
        "        # print(f\"num_of_nodes: {num_of_nodes}\")\n",
        "\n",
        "        # Ensure trg_index_broadcasted is within valid range\n",
        "        # if trg_index.max() >= num_of_nodes:\n",
        "        #     print(\"Error: trg_index contains values out of range.\")\n",
        "\n",
        "        # Ensure trg_index is within valid range before indexing\n",
        "        trg_index = torch.clamp(trg_index, 0, num_of_nodes - 1)\n",
        "\n",
        "        neighborhood_sums.scatter_add_(self.nodes_dim, trg_index_broadcasted, exp_scores_per_edge)\n",
        "        return neighborhood_sums.index_select(self.nodes_dim, trg_index)\n",
        "\n",
        "    def aggregate_neighbors(self, nodes_features_proj_lifted_weighted, edge_index, in_nodes_features, num_of_nodes):\n",
        "        size = list(nodes_features_proj_lifted_weighted.shape)\n",
        "        size[self.nodes_dim] = num_of_nodes\n",
        "        out_nodes_features = torch.zeros(size, dtype=in_nodes_features.dtype, device=in_nodes_features.device)\n",
        "        trg_index_broadcasted = self.explicit_broadcast(edge_index[self.trg_nodes_dim], nodes_features_proj_lifted_weighted)\n",
        "\n",
        "        trg_index_broadcasted = torch.clamp(trg_index_broadcasted, 0, num_of_nodes - 1)\n",
        "\n",
        "        out_nodes_features.scatter_add_(self.nodes_dim, trg_index_broadcasted, nodes_features_proj_lifted_weighted)\n",
        "        return out_nodes_features\n",
        "\n",
        "    def lift(self, scores_source, scores_target, nodes_features_matrix_proj, edge_index):\n",
        "        src_nodes_index = edge_index[self.src_nodes_dim]\n",
        "        trg_nodes_index = edge_index[self.trg_nodes_dim]\n",
        "        nodes_dim = 0 if scores_source.dim() == 2 else 1\n",
        "        # print(f\"scores_source shape: {scores_source.shape}\")\n",
        "        # print(f\"scores_target shape: {scores_target.shape}\")\n",
        "        # print(f\"src_nodes_index shape: {src_nodes_index.shape}\")\n",
        "        # print(f\"trg_nodes_index shape: {trg_nodes_index.shape}\")\n",
        "\n",
        "        # Ensure src_nodes_index and trg_nodes_index are within range of scores_source and scores_target\n",
        "        max_index = scores_source.size(0) - 1\n",
        "\n",
        "        src_nodes_index = torch.clamp(src_nodes_index, 0, max_index)\n",
        "        trg_nodes_index = torch.clamp(trg_nodes_index, 0, max_index)\n",
        "\n",
        "        scores_source = scores_source.index_select(self.nodes_dim, src_nodes_index)\n",
        "        scores_target = scores_target.index_select(self.nodes_dim, trg_nodes_index)\n",
        "        nodes_features_matrix_proj_lifted = nodes_features_matrix_proj.index_select(self.nodes_dim, src_nodes_index)\n",
        "        return scores_source, scores_target, nodes_features_matrix_proj_lifted\n",
        "\n",
        "    def explicit_broadcast(self, this, other):\n",
        "        for _ in range(this.dim(), other.dim()):\n",
        "            this = this.unsqueeze(-1)\n",
        "        return this.expand_as(other)\n",
        "\n",
        "    def init_params(self):\n",
        "        nn.init.xavier_uniform_(self.linear_proj.weight)\n",
        "        nn.init.xavier_uniform_(self.scoring_fn_target)\n",
        "        nn.init.xavier_uniform_(self.scoring_fn_source)\n",
        "        if self.bias is not None:\n",
        "            torch.nn.init.zeros_(self.bias)\n",
        "\n",
        "    def skip_concat_bias(self, attention_coefficients, in_nodes_features, out_nodes_features):\n",
        "        if self.log_attention_weights:\n",
        "            self.attention_weights = attention_coefficients\n",
        "        if self.add_skip_connection:\n",
        "            if out_nodes_features.shape[-1] == in_nodes_features.shape[-1]:\n",
        "                out_nodes_features += in_nodes_features.unsqueeze(1)\n",
        "            else:\n",
        "                out_nodes_features += self.skip_proj(in_nodes_features).view(-1, self.num_of_heads, self.num_out_features)\n",
        "        if self.concat:\n",
        "            out_nodes_features = out_nodes_features.view(-1, self.num_of_heads * self.num_out_features)\n",
        "        else:\n",
        "            out_nodes_features = out_nodes_features.mean(dim=self.head_dim)\n",
        "        if self.bias is not None:\n",
        "            out_nodes_features += self.bias\n",
        "        return out_nodes_features if self.activation is None else self.activation(out_nodes_features)\n",
        "\n",
        "class GAT(torch.nn.Module):\n",
        "    def __init__(self, num_of_layers, num_heads_per_layer, num_features_per_layer, add_skip_connection=True, bias=True,\n",
        "                 dropout=0.6, log_attention_weights=False):\n",
        "        super().__init__()\n",
        "        assert num_of_layers == len(num_heads_per_layer) == len(num_features_per_layer) - 1, f'Enter valid arch params.'\n",
        "\n",
        "        num_heads_per_layer = [1] + num_heads_per_layer  # trick - so that I can nicely create GAT layers below\n",
        "\n",
        "        gat_layers = []  # collect GAT layers\n",
        "        for i in range(num_of_layers):\n",
        "            layer = GATLayer(\n",
        "                num_in_features=num_features_per_layer[i] * num_heads_per_layer[i],  # consequence of concatenation\n",
        "                num_out_features=num_features_per_layer[i+1],\n",
        "                num_of_heads=num_heads_per_layer[i+1],\n",
        "                concat=True if i < num_of_layers - 1 else False,  # last GAT layer does mean avg, the others do concat\n",
        "                activation=nn.ELU() if i < num_of_layers - 1 else None,  # last layer just outputs raw scores\n",
        "                dropout_prob=dropout,\n",
        "                add_skip_connection=add_skip_connection,\n",
        "                bias=bias,\n",
        "                log_attention_weights=log_attention_weights\n",
        "            )\n",
        "            gat_layers.append(layer)\n",
        "\n",
        "        self.gat_net = nn.Sequential(\n",
        "            *gat_layers,\n",
        "        )\n",
        "\n",
        "    def forward(self, data):\n",
        "        return self.gat_net(data)"
      ],
      "metadata": {
        "id": "WWVVNNiFoq-A"
      },
      "execution_count": 16,
      "outputs": []
    },
    {
      "cell_type": "code",
      "source": [
        "# GAT dataset\n",
        "def evaluate(model, node_features, edge_index, labels, indices, num_classes):\n",
        "    model.eval()\n",
        "    with torch.no_grad():\n",
        "        outputs, _ = model((node_features, edge_index))\n",
        "        probabilities = torch.softmax(outputs, dim=1)\n",
        "        predictions = torch.argmax(probabilities, dim=1)\n",
        "        true_labels = labels[indices].cpu().numpy()\n",
        "        pred_labels = predictions[indices].cpu().numpy()\n",
        "        y_score = probabilities[indices].cpu().numpy()\n",
        "\n",
        "        accuracy = accuracy_score(true_labels, pred_labels)\n",
        "        precision = precision_score(true_labels, pred_labels, average='weighted')\n",
        "        f1 = f1_score(true_labels, pred_labels, average='weighted')\n",
        "        # print(\"true_labels:\", true_labels, \"y-score\", y_score)\n",
        "\n",
        "        # Ensure the number of classes matches for AUC calculation\n",
        "        # Check if y_score needs adjustment for binary classification\n",
        "        if y_score.shape[1] == 2:\n",
        "            auc = roc_auc_score(true_labels, y_score[:, 1])\n",
        "        else:\n",
        "            auc = roc_auc_score(true_labels, y_score, multi_class='ovo')\n",
        "\n",
        "    return accuracy, precision, f1, auc\n",
        "\n",
        "\n",
        "# Ensure the data is already preprocessed and loaded\n",
        "# Assuming data is already loaded as node_features, node_labels, edge_index, train_indices, val_indices, test_indices\n",
        "\n",
        "device = torch.device(\"cuda\" if torch.cuda.is_available() else \"cpu\")\n",
        "valid_edge_index = edge_index[:, edge_index.max(dim=0)[0] < node_features.shape[0]]\n",
        "\n",
        "node_features = node_features.to(device)\n",
        "node_labels = node_labels.to(device)\n",
        "edge_index = edge_index.to(device)\n",
        "\n",
        "gat_model = GAT(\n",
        "    num_of_layers=2,\n",
        "    num_heads_per_layer=[8, 1],\n",
        "    num_features_per_layer=[node_features.shape[1], 8, num_classes],  # Use the number of features, not the tensor\n",
        "    add_skip_connection=True,\n",
        "    bias=True,\n",
        "    dropout=0.68,\n",
        "    log_attention_weights=False\n",
        ").to(device)\n",
        "\n",
        "optimizer = Adam(gat_model.parameters(), lr=0.005, weight_decay=0.0005)\n",
        "loss_fn = nn.CrossEntropyLoss()\n",
        "\n",
        "batch_size = 74  # Adjust batch size based on available memory\n",
        "num_workers = 0\n",
        "train_loader = DataLoader(TensorDataset(node_features[train_indices], node_labels[train_indices]), batch_size=batch_size, shuffle=True)\n",
        "val_loader = DataLoader(TensorDataset(node_features[val_indices], node_labels[val_indices]), batch_size=batch_size, shuffle=False, num_workers=num_workers, pin_memory=False)\n",
        "test_loader = DataLoader(TensorDataset(node_features[test_indices], node_labels[test_indices]), batch_size=batch_size, shuffle=False, num_workers=num_workers, pin_memory=False)\n",
        "# train_loader = list(train_loader)[:5]\n",
        "# val_loader = list(val_loader)[:5]\n",
        "# test_loader = list(test_loader)[:5]\n",
        "\n",
        "from sklearn.metrics import accuracy_score, precision_score, f1_score, roc_auc_score\n",
        "from torch.profiler import profile, record_function, ProfilerActivity\n",
        "\n",
        "def train_gat_model():\n",
        "    for epoch in range(max_epochs):\n",
        "        gat_model.train()\n",
        "        total_loss = 0\n",
        "        epoch_start_time = time.time()\n",
        "        with profile(activities=[ProfilerActivity.CPU, ProfilerActivity.CUDA], record_shapes=True) as prof:\n",
        "            for batch_idx, (batch_features, batch_labels) in enumerate(train_loader):\n",
        "                batch_start_time = time.time()\n",
        "                batch_features, batch_labels = batch_features.to(device), batch_labels.to(device)\n",
        "                optimizer.zero_grad()\n",
        "                outputs, _ = gat_model((batch_features, edge_index))\n",
        "                loss = loss_fn(outputs, batch_labels)\n",
        "                loss.backward()\n",
        "                optimizer.step()\n",
        "                total_loss += loss.item()\n",
        "                _, predicted = torch.max(outputs.data, 1)\n",
        "                accuracy = (predicted == batch_labels).sum().item() / batch_labels.size(0)\n",
        "\n",
        "            #     if batch_idx % 10 == 0:  # Print progress every 10 batches\n",
        "            #         batch_end_time = time.time()\n",
        "            #         print(f\"Epoch {epoch+1}, Batch {batch_idx}/{len(train_loader)}, Loss: {loss.item():.4f}, Accuracy: {accuracy:.4f}, Batch Time: {batch_end_time - batch_start_time:.4f}s\")\n",
        "            # prof.step()\n",
        "\n",
        "        epoch_end_time = time.time()\n",
        "        val_accuracy, val_precision, val_f1, val_auc = evaluate(gat_model, node_features, edge_index, node_labels, val_indices, num_classes)\n",
        "        test_accuracy, test_precision, test_f1, test_auc = evaluate(gat_model, node_features, edge_index, node_labels, test_indices, num_classes)\n",
        "        print(f\"Epoch {epoch+1} completed, Batch {batch_idx}/{len(train_loader)}, Avg Loss: {total_loss/len(train_loader):.4f}, Val Acc: {val_accuracy:.3f}, Test Acc: {test_accuracy:.3f}, Epoch Time: {epoch_end_time - epoch_start_time:.4f}s\")\n",
        "        # print(prof.key_averages().table(sort_by=\"cuda_time_total\", row_limit=10))\n",
        "\n",
        "max_epochs = 15\n",
        "\n",
        "train_gat_model()\n",
        "\n",
        "test_accuracy, test_precision, test_f1, test_auc = evaluate(gat_model, node_features, edge_index, node_labels, test_indices, num_classes)\n",
        "print(f\"Final Test Acc: {test_accuracy:.3f}, Precision: {test_precision:.3f}, F1 Score: {test_f1:.3f}, AUC: {test_auc if test_auc is not None else 'N/A'}\")"
      ],
      "metadata": {
        "colab": {
          "base_uri": "https://localhost:8080/"
        },
        "id": "n9te8Byh6HqD",
        "outputId": "52a7228b-704d-47c3-c85b-d139db9e0858"
      },
      "execution_count": 17,
      "outputs": [
        {
          "output_type": "stream",
          "name": "stderr",
          "text": [
            "/usr/local/lib/python3.10/dist-packages/torch_geometric/deprecation.py:26: UserWarning: 'data.DataLoader' is deprecated, use 'loader.DataLoader' instead\n",
            "  warnings.warn(out)\n"
          ]
        },
        {
          "output_type": "stream",
          "name": "stdout",
          "text": [
            "Epoch 1 completed, Batch 765/766, Avg Loss: 0.5392, Val Acc: 0.749, Test Acc: 0.885, Epoch Time: 111.9923s\n",
            "Epoch 2 completed, Batch 765/766, Avg Loss: 0.4059, Val Acc: 0.747, Test Acc: 0.874, Epoch Time: 121.4620s\n",
            "Epoch 3 completed, Batch 765/766, Avg Loss: 0.3871, Val Acc: 0.749, Test Acc: 0.885, Epoch Time: 120.2895s\n",
            "Epoch 4 completed, Batch 765/766, Avg Loss: 0.3726, Val Acc: 0.749, Test Acc: 0.885, Epoch Time: 125.6576s\n",
            "Epoch 5 completed, Batch 765/766, Avg Loss: 0.3640, Val Acc: 0.996, Test Acc: 0.978, Epoch Time: 122.4475s\n",
            "Epoch 6 completed, Batch 765/766, Avg Loss: 0.3564, Val Acc: 0.994, Test Acc: 0.954, Epoch Time: 122.3923s\n",
            "Epoch 7 completed, Batch 765/766, Avg Loss: 0.3631, Val Acc: 0.749, Test Acc: 0.885, Epoch Time: 126.5018s\n",
            "Epoch 8 completed, Batch 765/766, Avg Loss: 0.3483, Val Acc: 0.949, Test Acc: 0.967, Epoch Time: 126.8486s\n",
            "Epoch 9 completed, Batch 765/766, Avg Loss: 0.3523, Val Acc: 0.749, Test Acc: 0.885, Epoch Time: 124.0720s\n",
            "Epoch 10 completed, Batch 765/766, Avg Loss: 0.3520, Val Acc: 0.993, Test Acc: 0.933, Epoch Time: 128.6920s\n",
            "Epoch 11 completed, Batch 765/766, Avg Loss: 0.3499, Val Acc: 0.993, Test Acc: 0.932, Epoch Time: 124.6375s\n",
            "Epoch 12 completed, Batch 765/766, Avg Loss: 0.3610, Val Acc: 0.749, Test Acc: 0.885, Epoch Time: 126.0398s\n",
            "Epoch 13 completed, Batch 765/766, Avg Loss: 0.3549, Val Acc: 0.751, Test Acc: 0.887, Epoch Time: 124.0031s\n",
            "Epoch 14 completed, Batch 765/766, Avg Loss: 0.3436, Val Acc: 0.786, Test Acc: 0.904, Epoch Time: 125.1004s\n",
            "Epoch 15 completed, Batch 765/766, Avg Loss: 0.3719, Val Acc: 0.994, Test Acc: 0.948, Epoch Time: 126.8430s\n",
            "Final Test Acc: 0.948, Precision: 0.955, F1 Score: 0.949, AUC: 0.9946211600676276\n"
          ]
        }
      ]
    },
    {
      "cell_type": "code",
      "source": [
        "# GAT-QNN\n",
        "class QuantumLayer(torch.nn.Module):\n",
        "    def __init__(self, input_dim, output_dim):\n",
        "        super(QuantumLayer, self).__init__()\n",
        "        self.linear = torch.nn.Linear(input_dim, output_dim)\n",
        "\n",
        "    def forward(self, x):\n",
        "        return torch.sigmoid(self.linear(x))\n",
        "\n",
        "\n",
        "class GATWithQuantumLayer(torch.nn.Module):\n",
        "    def __init__(self, num_of_layers, num_heads_per_layer, num_features_per_layer, quantum_layer_dim, add_skip_connection=True, bias=True, dropout=0.6, log_attention_weights=False):\n",
        "        super(GATWithQuantumLayer, self).__init__()\n",
        "        self.gat = GAT(num_of_layers, num_heads_per_layer, num_features_per_layer, add_skip_connection, bias, dropout, log_attention_weights)\n",
        "        gat_output_dim = num_heads_per_layer[-1] * num_features_per_layer[-1]\n",
        "        self.quantum_layer = QuantumLayer(gat_output_dim, quantum_layer_dim)\n",
        "\n",
        "    def forward(self, x, edge_index):\n",
        "        x, edge_index = self.gat((x, edge_index))\n",
        "        x = x.view(x.size(0), -1)  # Ensure the output of GAT is flattened correctly\n",
        "        return self.quantum_layer(x)\n",
        "\n",
        "combined_model = GATWithQuantumLayer(\n",
        "    num_of_layers=2,\n",
        "    num_heads_per_layer=[8, 1],\n",
        "    num_features_per_layer=[node_features.shape[1], 8, num_classes],\n",
        "    quantum_layer_dim=2\n",
        ").to(device)\n",
        "\n",
        "\n",
        "device = torch.device(\"cuda\" if torch.cuda.is_available() else \"cpu\")\n",
        "\n",
        "# Assuming data is already loaded as node_features, node_labels, edge_index, train_indices, val_indices, test_indices\n",
        "node_features = node_features.to(device)\n",
        "node_labels = node_labels.to(device)\n",
        "edge_index = edge_index.to(device)\n",
        "\n",
        "print(f\"Number of classes: {num_classes}\")\n",
        "def evaluate(model, node_features, edge_index, labels, indices):\n",
        "    model.eval()\n",
        "    with torch.no_grad():\n",
        "        outputs = model(node_features, edge_index)\n",
        "        probabilities = torch.softmax(outputs, dim=1)\n",
        "        predictions = torch.argmax(probabilities, dim=1)\n",
        "        true_labels = labels[indices].cpu().numpy()\n",
        "        pred_labels = predictions[indices].cpu().numpy()\n",
        "        y_score = probabilities[indices].cpu().numpy()\n",
        "\n",
        "        accuracy = accuracy_score(true_labels, pred_labels)\n",
        "        precision = precision_score(true_labels, pred_labels, average='weighted')\n",
        "        f1 = f1_score(true_labels, pred_labels, average='weighted')\n",
        "\n",
        "        if y_score.shape[1] == 2:\n",
        "            auc = roc_auc_score(true_labels, y_score[:, 1])\n",
        "        else:\n",
        "            auc = roc_auc_score(true_labels, y_score, multi_class='ovo')\n",
        "\n",
        "    return accuracy, precision, f1, auc\n",
        "\n",
        "gat_model = GAT(\n",
        "    num_of_layers=2,\n",
        "    num_heads_per_layer=[8, 1],\n",
        "    num_features_per_layer=[node_features.shape[1], 8, num_classes],\n",
        "    add_skip_connection=True,\n",
        "    bias=True,\n",
        "    dropout=0.68,\n",
        "    log_attention_weights=False\n",
        ").to(device)\n",
        "assert node_labels.max().item() < num_classes, \"Label value out of bounds\"\n",
        "\n",
        "# combined_model = GATWithQuantumLayer(gat_model, quantum_input_dim=8, quantum_output_dim=2).to(device)\n",
        "\n",
        "optimizer = Adam(combined_model.parameters(), lr=0.005, weight_decay=0.0005)\n",
        "loss_fn = nn.CrossEntropyLoss()\n",
        "batch_size = 74\n",
        "num_workers = 0\n",
        "\n",
        "train_loader = DataLoader(TensorDataset(node_features[train_indices], node_labels[train_indices]), batch_size=batch_size, shuffle=True)\n",
        "val_loader = DataLoader(TensorDataset(node_features[val_indices], node_labels[val_indices]), batch_size=batch_size, shuffle=False, num_workers=num_workers, pin_memory=False)\n",
        "test_loader = DataLoader(TensorDataset(node_features[test_indices], node_labels[test_indices]), batch_size=batch_size, shuffle=False, num_workers=num_workers, pin_memory=False)\n",
        "\n",
        "# train_dataset = Data(x=node_features, edge_index=edge_index, y=node_labels)\n",
        "# train_loader = DataLoader(TensorDataset(node_features, node_labels), batch_size=len(node_labels), shuffle=True)\n",
        "\n",
        "\n",
        "def train_combined_model():\n",
        "    combined_model.train()\n",
        "    criterion = nn.CrossEntropyLoss()  # Use CrossEntropyLoss\n",
        "\n",
        "    for epoch in range(max_epochs):\n",
        "        total_loss = 0\n",
        "        for batch_features, batch_labels in train_loader:\n",
        "            batch_features, batch_labels = batch_features.to(device), batch_labels.to(device)\n",
        "            optimizer.zero_grad()\n",
        "            outputs = combined_model(batch_features, edge_index)  # Pass both node features and edge index\n",
        "            loss = criterion(outputs, batch_labels.long())  # Ensure labels are long (integers)\n",
        "            loss.backward()\n",
        "            optimizer.step()\n",
        "            total_loss += loss.item()\n",
        "\n",
        "        # Calculate validation metrics\n",
        "        val_accuracy, val_precision, val_f1, val_auc = evaluate(combined_model, node_features, edge_index, node_labels, val_indices)\n",
        "\n",
        "        # Calculate test metrics\n",
        "        test_accuracy, test_precision, test_f1, test_auc = evaluate(combined_model, node_features, edge_index, node_labels, test_indices)\n",
        "\n",
        "        print(f\"Epoch {epoch+1}, Loss: {total_loss/len(train_loader):.4f}, Val Acc: {val_accuracy:.3f}, Val Precision: {val_precision:.3f}, Val F1: {val_f1:.3f}, Val AUC: {val_auc:.3f}, Test Acc: {test_accuracy:.3f}, Test Precision: {test_precision:.3f}, Test F1: {test_f1:.3f}, Test AUC: {test_auc:.3f}\")\n",
        "\n",
        "# Set the number of epochs\n",
        "max_epochs = 15\n",
        "\n",
        "# Train the model\n",
        "train_combined_model()\n",
        "\n",
        "test_accuracy, test_precision, test_f1, test_auc = evaluate(combined_model, node_features, edge_index, node_labels, test_indices)\n",
        "print(f\"Final Test Acc: {test_accuracy:.3f}, Test Precision: {test_precision:.3f}, Test F1: {test_f1:.3f}, Test AUC: {test_auc:.3f}\")"
      ],
      "metadata": {
        "id": "LtQLYH7PK8ZC",
        "outputId": "4adca7db-5cf4-412d-bc7e-cd031c79841a",
        "colab": {
          "base_uri": "https://localhost:8080/"
        }
      },
      "execution_count": 27,
      "outputs": [
        {
          "output_type": "stream",
          "name": "stdout",
          "text": [
            "Number of classes: 2\n",
            "Epoch 1, Loss: 0.4745, Val Acc: 0.748, Val Precision: 0.869, Val F1: 0.762, Val AUC: 0.996, Test Acc: 0.879, Test Precision: 0.888, Test F1: 0.869, Test AUC: 0.989\n",
            "Epoch 2, Loss: 0.3307, Val Acc: 0.997, Val Precision: 0.997, Val F1: 0.997, Val AUC: 0.999, Test Acc: 0.992, Test Precision: 0.992, Test F1: 0.992, Test AUC: 0.994\n",
            "Epoch 3, Loss: 0.3192, Val Acc: 0.989, Val Precision: 0.990, Val F1: 0.989, Val AUC: 0.999, Test Acc: 0.957, Test Precision: 0.961, Test F1: 0.958, Test AUC: 0.991\n",
            "Epoch 4, Loss: 0.3185, Val Acc: 0.999, Val Precision: 0.999, Val F1: 0.999, Val AUC: 1.000, Test Acc: 0.992, Test Precision: 0.992, Test F1: 0.992, Test AUC: 0.992\n",
            "Epoch 5, Loss: 0.3181, Val Acc: 0.998, Val Precision: 0.998, Val F1: 0.998, Val AUC: 1.000, Test Acc: 0.986, Test Precision: 0.987, Test F1: 0.987, Test AUC: 0.992\n",
            "Epoch 6, Loss: 0.3180, Val Acc: 0.999, Val Precision: 0.999, Val F1: 0.999, Val AUC: 1.000, Test Acc: 0.989, Test Precision: 0.989, Test F1: 0.989, Test AUC: 0.992\n",
            "Epoch 7, Loss: 0.3178, Val Acc: 0.999, Val Precision: 0.999, Val F1: 0.999, Val AUC: 1.000, Test Acc: 0.992, Test Precision: 0.992, Test F1: 0.992, Test AUC: 0.993\n",
            "Epoch 8, Loss: 0.3177, Val Acc: 0.999, Val Precision: 0.999, Val F1: 0.999, Val AUC: 1.000, Test Acc: 0.989, Test Precision: 0.989, Test F1: 0.989, Test AUC: 0.992\n",
            "Epoch 9, Loss: 0.3176, Val Acc: 0.999, Val Precision: 0.999, Val F1: 0.999, Val AUC: 1.000, Test Acc: 0.993, Test Precision: 0.993, Test F1: 0.993, Test AUC: 0.992\n",
            "Epoch 10, Loss: 0.3176, Val Acc: 0.999, Val Precision: 0.999, Val F1: 0.999, Val AUC: 1.000, Test Acc: 0.986, Test Precision: 0.986, Test F1: 0.986, Test AUC: 0.993\n",
            "Epoch 11, Loss: 0.3177, Val Acc: 0.997, Val Precision: 0.997, Val F1: 0.997, Val AUC: 1.000, Test Acc: 0.965, Test Precision: 0.968, Test F1: 0.966, Test AUC: 0.992\n",
            "Epoch 12, Loss: 0.3175, Val Acc: 0.999, Val Precision: 0.999, Val F1: 0.999, Val AUC: 1.000, Test Acc: 0.989, Test Precision: 0.990, Test F1: 0.989, Test AUC: 0.992\n",
            "Epoch 13, Loss: 0.3176, Val Acc: 0.998, Val Precision: 0.998, Val F1: 0.998, Val AUC: 1.000, Test Acc: 0.983, Test Precision: 0.984, Test F1: 0.983, Test AUC: 0.993\n",
            "Epoch 14, Loss: 0.3175, Val Acc: 0.998, Val Precision: 0.998, Val F1: 0.998, Val AUC: 1.000, Test Acc: 0.981, Test Precision: 0.982, Test F1: 0.981, Test AUC: 0.992\n",
            "Epoch 15, Loss: 0.3174, Val Acc: 0.999, Val Precision: 0.999, Val F1: 0.999, Val AUC: 1.000, Test Acc: 0.987, Test Precision: 0.987, Test F1: 0.987, Test AUC: 0.992\n",
            "Final Test Acc: 0.987, Test Precision: 0.987, Test F1: 0.987, Test AUC: 0.992\n"
          ]
        }
      ]
    },
    {
      "cell_type": "markdown",
      "source": [
        "### **Multi**"
      ],
      "metadata": {
        "id": "UiWJcuz1gUPG"
      }
    },
    {
      "cell_type": "code",
      "source": [
        "from sklearn.preprocessing import LabelEncoder, StandardScaler\n",
        "import torch\n",
        "import numpy as np\n",
        "import pandas as pd\n",
        "\n",
        "def load_graph_data(training_config, device, data_fraction=1.0):\n",
        "    dataset_name = training_config['dataset_name'].lower()\n",
        "    should_visualize = training_config['should_visualize']\n",
        "\n",
        "    if dataset_name == DatasetType.CICIDS2017.name.lower():\n",
        "        # Use only a fraction of the data\n",
        "        num_samples = int(len(data) * data_fraction)\n",
        "\n",
        "        # Fit LabelEncoder on the entire dataset\n",
        "        label_encoder = LabelEncoder()\n",
        "        data['Label'] = data['Label'].apply(lambda x: 'Normal' if x == 'BENIGN' else x)\n",
        "        data['Label'] = label_encoder.fit_transform(data['Label'])\n",
        "\n",
        "        # Subset the data\n",
        "        data_subset = data.iloc[:num_samples]\n",
        "\n",
        "        # Extract features and create tensors\n",
        "        labels = data_subset['Label'].values\n",
        "        num_classes = len(label_encoder.classes_)\n",
        "\n",
        "        # Print unique classes\n",
        "        print(\"Unique classes:\", label_encoder.classes_)\n",
        "        # print(\"Number of classes:\", num_classes)\n",
        "\n",
        "        # Define the most important numerical features (excluding time-based features)\n",
        "        numerical_features = [\n",
        "            'Flow Duration', 'Flow Bytes/s', 'Flow Packets/s', 'Total Fwd Packets', 'Total Backward Packets',\n",
        "            'Fwd Packet Length Mean', 'Bwd Packet Length Mean', 'Fwd Packet Length Max', 'Bwd Packet Length Max',\n",
        "            'Packet Length Mean', 'Packet Length Std', 'Min Packet Length', 'Max Packet Length', 'SYN Flag Count',\n",
        "            'PSH Flag Count', 'ACK Flag Count', 'URG Flag Count', 'RST Flag Count', 'Avg Fwd Segment Size',\n",
        "            'Avg Bwd Segment Size', 'Fwd Header Length', 'Bwd Header Length', 'Average Packet Size'\n",
        "        ]\n",
        "\n",
        "        # Extract numerical data and scale it\n",
        "        numerical_data = data_subset[numerical_features].values\n",
        "\n",
        "        # Handle infinite values\n",
        "        numerical_data = np.where(np.isinf(numerical_data), np.nan, numerical_data)\n",
        "\n",
        "        # Replace NaNs with column mean\n",
        "        col_mean = np.nanmean(numerical_data, axis=0)\n",
        "        inds = np.where(np.isnan(numerical_data))\n",
        "        numerical_data[inds] = np.take(col_mean, inds[1])\n",
        "\n",
        "        scaler = StandardScaler()\n",
        "        scaled_numerical_data = scaler.fit_transform(numerical_data)\n",
        "\n",
        "        # Combine features\n",
        "        features = scaled_numerical_data\n",
        "\n",
        "        # Create PyTorch tensors\n",
        "        node_features = torch.tensor(features, dtype=torch.float32).to(device)\n",
        "        node_labels = torch.tensor(labels, dtype=torch.long).to(device)\n",
        "\n",
        "        # Create device mapping\n",
        "        devices = set(data_subset['Destination Port'].values)\n",
        "        devices.update(data_subset['Destination Port'].values)\n",
        "        device_to_id = {device: idx for idx, device in enumerate(devices)}\n",
        "\n",
        "        # Build edge list based on Destination Port\n",
        "        source_nodes_ids, target_nodes_ids = [], []\n",
        "        for index, row in data_subset.iterrows():\n",
        "            src_device = device_to_id[row['Destination Port']]\n",
        "            dst_device = device_to_id[row['Destination Port']]\n",
        "            source_nodes_ids.append(src_device)\n",
        "            target_nodes_ids.append(dst_device)\n",
        "            target_nodes_ids.append(src_device)  # Assuming bidirectional connections\n",
        "            source_nodes_ids.append(dst_device)\n",
        "\n",
        "        edge_index = np.row_stack((source_nodes_ids, target_nodes_ids))\n",
        "\n",
        "        # Convert to dense PyTorch tensors\n",
        "        edge_index = torch.tensor(edge_index, dtype=torch.long, device=device)\n",
        "\n",
        "        # Define the new split percentages\n",
        "        test_split = 0.5\n",
        "        val_split = 0.3\n",
        "        train_split = 0.2\n",
        "\n",
        "        # Ensure the splits are taken from the 10% subset\n",
        "        num_samples = node_features.shape[0]\n",
        "        test_size = int(0.5 * num_samples)\n",
        "        val_size = int(0.3 * num_samples)\n",
        "        train_size = num_samples - test_size - val_size\n",
        "\n",
        "        # Ensure splits sum up to the number of samples\n",
        "        assert train_size + val_size + test_size == num_samples\n",
        "\n",
        "        # Generate indices for the splits\n",
        "        train_indices = torch.arange(train_size, dtype=torch.long, device=device)\n",
        "        val_indices = torch.arange(train_size, train_size + val_size, dtype=torch.long, device=device)\n",
        "        test_indices = torch.arange(train_size + val_size, num_samples, dtype=torch.long, device=device)\n",
        "\n",
        "        return node_features, node_labels, edge_index, train_indices, val_indices, test_indices, num_classes\n",
        "    else:\n",
        "        raise Exception(f'{dataset_name} not yet supported.')\n"
      ],
      "metadata": {
        "id": "MnXPM7SC-MtL"
      },
      "execution_count": 80,
      "outputs": []
    },
    {
      "cell_type": "code",
      "source": [
        "# Let's just define dummy visualization functions for now - just to stop Python interpreter from complaining!\n",
        "# We'll define them in a moment, properly, I swear.\n",
        "\n",
        "def plot_in_out_degree_distributions():\n",
        "    pass\n",
        "\n",
        "def visualize_graph():\n",
        "    pass\n",
        "\n",
        "device = torch.device(\"cuda\" if torch.cuda.is_available() else \"cpu\")\n",
        "\n",
        "config = {\n",
        "    'dataset_name': DatasetType.CICIDS2017.name,\n",
        "    'should_visualize': False\n",
        "}\n",
        "\n",
        "# Load the data\n",
        "data_fraction = 0.1  # Use 10% of the dataset for example\n",
        "node_features, node_labels, edge_index, train_indices, val_indices, test_indices, num_classes = load_graph_data(config, device, data_fraction=data_fraction)\n",
        "\n",
        "# Print the shapes and types of the tensors\n",
        "print(node_features.shape, node_features.dtype)\n",
        "print(node_labels.shape, node_labels.dtype)\n",
        "print(edge_index.shape, edge_index.dtype)\n",
        "print(train_indices.shape, train_indices.dtype)\n",
        "print(val_indices.shape, val_indices.dtype)\n",
        "print(test_indices.shape, test_indices.dtype)"
      ],
      "metadata": {
        "id": "XkM0OjFb-fh5",
        "outputId": "1cbfc33c-5d6f-4f3a-a70e-f59cbdbaf1bd",
        "colab": {
          "base_uri": "https://localhost:8080/"
        }
      },
      "execution_count": 81,
      "outputs": [
        {
          "output_type": "stream",
          "name": "stdout",
          "text": [
            "Unique classes: ['Anomaly']\n",
            "torch.Size([283074, 23]) torch.float32\n",
            "torch.Size([283074]) torch.int64\n",
            "torch.Size([2, 566148]) torch.int64\n",
            "torch.Size([56615]) torch.int64\n",
            "torch.Size([84922]) torch.int64\n",
            "torch.Size([141537]) torch.int64\n"
          ]
        }
      ]
    },
    {
      "cell_type": "code",
      "source": [
        "# CIC dataset\n",
        "import torch\n",
        "import torch.nn as nn\n",
        "from torch.optim import Adam\n",
        "from torch_geometric.data import Data, DataLoader\n",
        "from torch.utils.data import TensorDataset\n",
        "\n",
        "\n",
        "class GATLayer(nn.Module):\n",
        "    src_nodes_dim = 0\n",
        "    trg_nodes_dim = 1\n",
        "    # nodes_dim = 0\n",
        "    head_dim = 1\n",
        "\n",
        "    def __init__(self, num_in_features, num_out_features, num_of_heads, concat=True, activation=nn.ELU(), dropout_prob=0.6, add_skip_connection=True, bias=True, log_attention_weights=False):\n",
        "        super().__init__()\n",
        "        self.nodes_dim = 0\n",
        "        self.num_of_heads = num_of_heads\n",
        "        self.num_out_features = num_out_features\n",
        "        self.concat = concat\n",
        "        self.add_skip_connection = add_skip_connection\n",
        "        self.linear_proj = nn.Linear(num_in_features, num_of_heads * num_out_features, bias=False)\n",
        "        self.scoring_fn_target = nn.Parameter(torch.Tensor(1, num_of_heads, num_out_features))\n",
        "        self.scoring_fn_source = nn.Parameter(torch.Tensor(1, num_of_heads, num_out_features))\n",
        "        if bias and concat:\n",
        "            self.bias = nn.Parameter(torch.Tensor(num_of_heads * num_out_features))\n",
        "        elif bias and not concat:\n",
        "            self.bias = nn.Parameter(torch.Tensor(num_out_features))\n",
        "        else:\n",
        "            self.register_parameter('bias', None)\n",
        "        if add_skip_connection:\n",
        "            self.skip_proj = nn.Linear(num_in_features, num_of_heads * num_out_features, bias=False)\n",
        "        else:\n",
        "            self.register_parameter('skip_proj', None)\n",
        "        self.leakyReLU = nn.LeakyReLU(0.2)\n",
        "        self.activation = activation\n",
        "        self.dropout = nn.Dropout(p=dropout_prob)\n",
        "        self.log_attention_weights = log_attention_weights\n",
        "        self.attention_weights = None\n",
        "        self.init_params()\n",
        "\n",
        "    def forward(self, data):\n",
        "        in_nodes_features, edge_index = data\n",
        "        num_of_nodes = in_nodes_features.shape[self.nodes_dim]\n",
        "        assert edge_index.shape[0] == 2, f'Expected edge index with shape=(2,E) got {edge_index.shape}'\n",
        "        in_nodes_features = self.dropout(in_nodes_features)\n",
        "        nodes_features_proj = self.linear_proj(in_nodes_features).view(-1, self.num_of_heads, self.num_out_features)\n",
        "        nodes_features_proj = self.dropout(nodes_features_proj)\n",
        "        scores_source = (nodes_features_proj * self.scoring_fn_source).sum(dim=-1)\n",
        "        scores_target = (nodes_features_proj * self.scoring_fn_target).sum(dim=-1)\n",
        "        scores_source_lifted, scores_target_lifted, nodes_features_proj_lifted = self.lift(scores_source, scores_target, nodes_features_proj, edge_index)\n",
        "        scores_per_edge = self.leakyReLU(scores_source_lifted + scores_target_lifted)\n",
        "        attentions_per_edge = self.neighborhood_aware_softmax(scores_per_edge, edge_index[self.trg_nodes_dim], num_of_nodes)\n",
        "        attentions_per_edge = self.dropout(attentions_per_edge)\n",
        "        nodes_features_proj_lifted_weighted = nodes_features_proj_lifted * attentions_per_edge\n",
        "        out_nodes_features = self.aggregate_neighbors(nodes_features_proj_lifted_weighted, edge_index, in_nodes_features, num_of_nodes)\n",
        "        out_nodes_features = self.skip_concat_bias(attentions_per_edge, in_nodes_features, out_nodes_features)\n",
        "        return (out_nodes_features, edge_index)\n",
        "\n",
        "    def neighborhood_aware_softmax(self, scores_per_edge, trg_index, num_of_nodes):\n",
        "        scores_per_edge = scores_per_edge - scores_per_edge.max()\n",
        "        exp_scores_per_edge = scores_per_edge.exp()\n",
        "        neigborhood_aware_denominator = self.sum_edge_scores_neighborhood_aware(exp_scores_per_edge, trg_index, num_of_nodes)\n",
        "        attentions_per_edge = exp_scores_per_edge / (neigborhood_aware_denominator + 1e-16)\n",
        "        return attentions_per_edge.unsqueeze(-1)\n",
        "\n",
        "    def sum_edge_scores_neighborhood_aware(self, exp_scores_per_edge, trg_index, num_of_nodes):\n",
        "        trg_index_broadcasted = self.explicit_broadcast(trg_index, exp_scores_per_edge)\n",
        "        # print(f\"trg_index_broadcasted shape: {trg_index_broadcasted.shape}\")\n",
        "        # print(f\"exp_scores_per_edge shape: {exp_scores_per_edge.shape}\")\n",
        "        # Ensure trg_index_broadcasted is within valid range\n",
        "        trg_index_broadcasted = torch.clamp(trg_index_broadcasted, 0, num_of_nodes - 1)\n",
        "        size = list(exp_scores_per_edge.shape)\n",
        "        size[self.nodes_dim] = num_of_nodes\n",
        "        neighborhood_sums = torch.zeros(size, dtype=exp_scores_per_edge.dtype, device=exp_scores_per_edge.device)\n",
        "        # Debugging information\n",
        "        # print(f\"neighborhood_sums shape: {neighborhood_sums.shape}\")\n",
        "        # print(f\"trg_index max value: {trg_index.max()}\")\n",
        "        # print(f\"num_of_nodes: {num_of_nodes}\")\n",
        "\n",
        "        # Ensure trg_index_broadcasted is within valid range\n",
        "        # if trg_index.max() >= num_of_nodes:\n",
        "        #     print(\"Error: trg_index contains values out of range.\")\n",
        "\n",
        "        # Ensure trg_index is within valid range before indexing\n",
        "        trg_index = torch.clamp(trg_index, 0, num_of_nodes - 1)\n",
        "\n",
        "        neighborhood_sums.scatter_add_(self.nodes_dim, trg_index_broadcasted, exp_scores_per_edge)\n",
        "        return neighborhood_sums.index_select(self.nodes_dim, trg_index)\n",
        "\n",
        "    def aggregate_neighbors(self, nodes_features_proj_lifted_weighted, edge_index, in_nodes_features, num_of_nodes):\n",
        "        size = list(nodes_features_proj_lifted_weighted.shape)\n",
        "        size[self.nodes_dim] = num_of_nodes\n",
        "        out_nodes_features = torch.zeros(size, dtype=in_nodes_features.dtype, device=in_nodes_features.device)\n",
        "        trg_index_broadcasted = self.explicit_broadcast(edge_index[self.trg_nodes_dim], nodes_features_proj_lifted_weighted)\n",
        "\n",
        "        trg_index_broadcasted = torch.clamp(trg_index_broadcasted, 0, num_of_nodes - 1)\n",
        "\n",
        "        out_nodes_features.scatter_add_(self.nodes_dim, trg_index_broadcasted, nodes_features_proj_lifted_weighted)\n",
        "        return out_nodes_features\n",
        "\n",
        "    def lift(self, scores_source, scores_target, nodes_features_matrix_proj, edge_index):\n",
        "        src_nodes_index = edge_index[self.src_nodes_dim]\n",
        "        trg_nodes_index = edge_index[self.trg_nodes_dim]\n",
        "        nodes_dim = 0 if scores_source.dim() == 2 else 1\n",
        "        # print(f\"scores_source shape: {scores_source.shape}\")\n",
        "        # print(f\"scores_target shape: {scores_target.shape}\")\n",
        "        # print(f\"src_nodes_index shape: {src_nodes_index.shape}\")\n",
        "        # print(f\"trg_nodes_index shape: {trg_nodes_index.shape}\")\n",
        "\n",
        "        # Ensure src_nodes_index and trg_nodes_index are within range of scores_source and scores_target\n",
        "        max_index = scores_source.size(0) - 1\n",
        "\n",
        "        src_nodes_index = torch.clamp(src_nodes_index, 0, max_index)\n",
        "        trg_nodes_index = torch.clamp(trg_nodes_index, 0, max_index)\n",
        "\n",
        "        scores_source = scores_source.index_select(self.nodes_dim, src_nodes_index)\n",
        "        scores_target = scores_target.index_select(self.nodes_dim, trg_nodes_index)\n",
        "        nodes_features_matrix_proj_lifted = nodes_features_matrix_proj.index_select(self.nodes_dim, src_nodes_index)\n",
        "        return scores_source, scores_target, nodes_features_matrix_proj_lifted\n",
        "\n",
        "    def explicit_broadcast(self, this, other):\n",
        "        for _ in range(this.dim(), other.dim()):\n",
        "            this = this.unsqueeze(-1)\n",
        "        return this.expand_as(other)\n",
        "\n",
        "    def init_params(self):\n",
        "        nn.init.xavier_uniform_(self.linear_proj.weight)\n",
        "        nn.init.xavier_uniform_(self.scoring_fn_target)\n",
        "        nn.init.xavier_uniform_(self.scoring_fn_source)\n",
        "        if self.bias is not None:\n",
        "            torch.nn.init.zeros_(self.bias)\n",
        "\n",
        "    def skip_concat_bias(self, attention_coefficients, in_nodes_features, out_nodes_features):\n",
        "        if self.log_attention_weights:\n",
        "            self.attention_weights = attention_coefficients\n",
        "        if self.add_skip_connection:\n",
        "            if out_nodes_features.shape[-1] == in_nodes_features.shape[-1]:\n",
        "                out_nodes_features += in_nodes_features.unsqueeze(1)\n",
        "            else:\n",
        "                out_nodes_features += self.skip_proj(in_nodes_features).view(-1, self.num_of_heads, self.num_out_features)\n",
        "        if self.concat:\n",
        "            out_nodes_features = out_nodes_features.view(-1, self.num_of_heads * self.num_out_features)\n",
        "        else:\n",
        "            out_nodes_features = out_nodes_features.mean(dim=self.head_dim)\n",
        "        if self.bias is not None:\n",
        "            out_nodes_features += self.bias\n",
        "        return out_nodes_features if self.activation is None else self.activation(out_nodes_features)\n",
        "\n",
        "class GAT(torch.nn.Module):\n",
        "    def __init__(self, num_of_layers, num_heads_per_layer, num_features_per_layer, add_skip_connection=True, bias=True,\n",
        "                 dropout=0.6, log_attention_weights=False):\n",
        "        super().__init__()\n",
        "        assert num_of_layers == len(num_heads_per_layer) == len(num_features_per_layer) - 1, f'Enter valid arch params.'\n",
        "\n",
        "        num_heads_per_layer = [1] + num_heads_per_layer  # trick - so that I can nicely create GAT layers below\n",
        "\n",
        "        gat_layers = []  # collect GAT layers\n",
        "        for i in range(num_of_layers):\n",
        "            layer = GATLayer(\n",
        "                num_in_features=num_features_per_layer[i] * num_heads_per_layer[i],  # consequence of concatenation\n",
        "                num_out_features=num_features_per_layer[i+1],\n",
        "                num_of_heads=num_heads_per_layer[i+1],\n",
        "                concat=True if i < num_of_layers - 1 else False,  # last GAT layer does mean avg, the others do concat\n",
        "                activation=nn.ELU() if i < num_of_layers - 1 else None,  # last layer just outputs raw scores\n",
        "                dropout_prob=dropout,\n",
        "                add_skip_connection=add_skip_connection,\n",
        "                bias=bias,\n",
        "                log_attention_weights=log_attention_weights\n",
        "            )\n",
        "            gat_layers.append(layer)\n",
        "\n",
        "        self.gat_net = nn.Sequential(\n",
        "            *gat_layers,\n",
        "        )\n",
        "\n",
        "    def forward(self, data):\n",
        "        return self.gat_net(data)"
      ],
      "metadata": {
        "id": "4ULrb10M7Imq"
      },
      "execution_count": 16,
      "outputs": []
    },
    {
      "cell_type": "code",
      "source": [
        "import time"
      ],
      "metadata": {
        "id": "KOqNwtJ3GfQh"
      },
      "execution_count": 37,
      "outputs": []
    },
    {
      "cell_type": "code",
      "source": [
        "device = torch.device(\"cuda\" if torch.cuda.is_available() else \"cpu\")\n",
        "\n",
        "# Assuming data is already loaded as node_features, node_labels, edge_index, train_indices, val_indices, test_indices\n",
        "valid_edge_index = edge_index[:, edge_index.max(dim=0)[0] < node_features.shape[0]]\n",
        "\n",
        "node_features = node_features.to(device)\n",
        "node_labels = node_labels.to(device)\n",
        "edge_index = edge_index.to(device)\n",
        "\n",
        "gat_model = GAT(\n",
        "    num_of_layers=2,\n",
        "    num_heads_per_layer=[8, 1],\n",
        "    num_features_per_layer=[node_features.shape[1], 8, num_classes],\n",
        "    add_skip_connection=True,\n",
        "    bias=True,\n",
        "    dropout=0.68,\n",
        "    log_attention_weights=False\n",
        ").to(device)\n",
        "\n",
        "optimizer = Adam(gat_model.parameters(), lr=0.005, weight_decay=0.0005)\n",
        "loss_fn = nn.CrossEntropyLoss()\n",
        "\n",
        "batch_size = 64  # Adjust batch size based on available memory\n",
        "num_workers = 0\n",
        "train_loader = DataLoader(TensorDataset(node_features[train_indices], node_labels[train_indices]), batch_size=batch_size, shuffle=True)\n",
        "val_loader = DataLoader(TensorDataset(node_features[val_indices], node_labels[val_indices]), batch_size=batch_size, shuffle=False, num_workers=num_workers, pin_memory=False)\n",
        "test_loader = DataLoader(TensorDataset(node_features[test_indices], node_labels[test_indices]), batch_size=batch_size, shuffle=False, num_workers=num_workers, pin_memory=False)\n",
        "\n",
        "# train_loader = list(train_loader)[:10]\n",
        "# val_loader = list(val_loader)[:10]\n",
        "# test_loader = list(test_loader)[:10]\n",
        "\n",
        "def evaluate(model, node_features, edge_index, labels, indices):\n",
        "    model.eval()\n",
        "    with torch.no_grad():\n",
        "        outputs, _ = model((node_features, edge_index))\n",
        "        predictions = torch.argmax(outputs, dim=1)\n",
        "        accuracy = (predictions[indices] == labels[indices].to(device)).sum().item() / len(indices)\n",
        "    return accuracy\n",
        "from torch.profiler import profile, record_function, ProfilerActivity\n",
        "print(\"num of classes: \", num_classes)\n",
        "def train_gat_model():\n",
        "    for epoch in range(max_epochs):\n",
        "        gat_model.train()\n",
        "        total_loss = 0\n",
        "        epoch_start_time = time.time()\n",
        "        with profile(activities=[ProfilerActivity.CPU, ProfilerActivity.CUDA], record_shapes=True) as prof:\n",
        "            for batch_idx, (batch_features, batch_labels) in enumerate(train_loader):\n",
        "                batch_start_time = time.time()\n",
        "                batch_features, batch_labels = batch_features.to(device), batch_labels.to(device)\n",
        "                optimizer.zero_grad()\n",
        "                outputs, _ = gat_model((batch_features, edge_index))\n",
        "                loss = loss_fn(outputs, batch_labels)\n",
        "                loss.backward()\n",
        "                optimizer.step()\n",
        "                total_loss += loss.item()\n",
        "                _, predicted = torch.max(outputs.data, 1)\n",
        "                accuracy = (predicted == batch_labels).sum().item() / batch_labels.size(0)\n",
        "\n",
        "        epoch_end_time = time.time()\n",
        "        val_accuracy = evaluate(gat_model, node_features, edge_index, node_labels, val_indices)\n",
        "        test_accuracy = evaluate(gat_model, node_features, edge_index, node_labels, test_indices)\n",
        "        print(f\"Epoch {epoch+1} completed, Avg Loss: {total_loss/len(train_loader):.4f}, Val Acc: {val_accuracy:.3f}, Test Acc: {test_accuracy:.3f}, Epoch Time: {epoch_end_time - epoch_start_time:.4f}s\")\n",
        "\n",
        "max_epochs = 50\n",
        "\n",
        "train_gat_model()\n",
        "\n",
        "test_accuracy = evaluate(gat_model, node_features, edge_index, node_labels, test_indices)\n",
        "print(f\"Final Test Acc: {test_accuracy:.3f}\")"
      ],
      "metadata": {
        "id": "SOCi50aK6ym8",
        "outputId": "ca0c4c1a-9cc7-441b-d56d-a222b32ef5d4",
        "colab": {
          "base_uri": "https://localhost:8080/"
        }
      },
      "execution_count": 43,
      "outputs": [
        {
          "output_type": "stream",
          "name": "stdout",
          "text": [
            "num of classes:  15\n",
            "Epoch 1 completed, Avg Loss: 9.7062, Val Acc: 0.740, Test Acc: 0.807, Epoch Time: 1.4981s\n",
            "Epoch 2 completed, Avg Loss: 7.8754, Val Acc: 0.746, Test Acc: 0.850, Epoch Time: 0.9656s\n",
            "Epoch 3 completed, Avg Loss: 6.0070, Val Acc: 0.745, Test Acc: 0.845, Epoch Time: 1.4262s\n",
            "Epoch 4 completed, Avg Loss: 3.9783, Val Acc: 0.745, Test Acc: 0.841, Epoch Time: 1.3428s\n",
            "Epoch 5 completed, Avg Loss: 3.4723, Val Acc: 0.745, Test Acc: 0.840, Epoch Time: 1.3354s\n",
            "Epoch 6 completed, Avg Loss: 4.4090, Val Acc: 0.746, Test Acc: 0.850, Epoch Time: 0.9863s\n",
            "Epoch 7 completed, Avg Loss: 1.7186, Val Acc: 0.746, Test Acc: 0.857, Epoch Time: 1.4258s\n",
            "Epoch 8 completed, Avg Loss: 1.9666, Val Acc: 0.747, Test Acc: 0.862, Epoch Time: 1.9013s\n",
            "Epoch 9 completed, Avg Loss: 1.4448, Val Acc: 0.747, Test Acc: 0.866, Epoch Time: 1.8820s\n",
            "Epoch 10 completed, Avg Loss: 0.8513, Val Acc: 0.747, Test Acc: 0.871, Epoch Time: 1.0061s\n",
            "Epoch 11 completed, Avg Loss: 1.4127, Val Acc: 0.748, Test Acc: 0.875, Epoch Time: 1.4203s\n",
            "Epoch 12 completed, Avg Loss: 0.8172, Val Acc: 0.748, Test Acc: 0.876, Epoch Time: 1.3618s\n",
            "Epoch 13 completed, Avg Loss: 0.7532, Val Acc: 0.748, Test Acc: 0.875, Epoch Time: 0.9550s\n",
            "Epoch 14 completed, Avg Loss: 0.8286, Val Acc: 0.748, Test Acc: 0.875, Epoch Time: 1.4541s\n",
            "Epoch 15 completed, Avg Loss: 0.8647, Val Acc: 0.747, Test Acc: 0.875, Epoch Time: 1.3879s\n",
            "Final Test Acc: 0.875\n"
          ]
        }
      ]
    },
    {
      "cell_type": "markdown",
      "source": [
        "\n",
        "# GAT-QNN (Practice with Home Nework Dataset)"
      ],
      "metadata": {
        "id": "Lb6UwL0n7q7r"
      }
    },
    {
      "cell_type": "markdown",
      "source": [
        "**Quantum Layer Integration into GAT**\n",
        "The quantum layer was applied after the GAT layers to enhance the features extracted by the GAT model. This approach allows the GAT model to handle graph-specific tasks. It enhanced the GAT model by providing additional non-linear feature transformations. This added layer helps the model capture more complex patterns in the data\n",
        "\n",
        "GAT Model: Handles the graph structure and attention mechanisms.\n",
        "\n",
        "Quantum Layer: Applied after the GAT model to further process the features extracted by the GAT."
      ],
      "metadata": {
        "id": "U-XBC0yTbUhK"
      }
    },
    {
      "cell_type": "code",
      "source": [
        "!pip install torch-geometric --quiet"
      ],
      "metadata": {
        "id": "pch2rFuoMJ6u",
        "outputId": "fd8abc2a-51a8-45a2-c0b0-0633d33db3c1",
        "colab": {
          "base_uri": "https://localhost:8080/"
        }
      },
      "execution_count": null,
      "outputs": [
        {
          "output_type": "stream",
          "name": "stdout",
          "text": [
            "\u001b[?25l     \u001b[90m━━━━━━━━━━━━━━━━━━━━━━━━━━━━━━━━━━━━━━━━\u001b[0m \u001b[32m0.0/1.1 MB\u001b[0m \u001b[31m?\u001b[0m eta \u001b[36m-:--:--\u001b[0m\r\u001b[2K     \u001b[91m━━━━━\u001b[0m\u001b[91m╸\u001b[0m\u001b[90m━━━━━━━━━━━━━━━━━━━━━━━━━━━━━━━━━━\u001b[0m \u001b[32m0.2/1.1 MB\u001b[0m \u001b[31m4.7 MB/s\u001b[0m eta \u001b[36m0:00:01\u001b[0m\r\u001b[2K     \u001b[91m━━━━━━━━━━━━━━━━━━━━━━━━━━━━━━━━━━━━━━━\u001b[0m\u001b[91m╸\u001b[0m \u001b[32m1.1/1.1 MB\u001b[0m \u001b[31m16.8 MB/s\u001b[0m eta \u001b[36m0:00:01\u001b[0m\r\u001b[2K     \u001b[90m━━━━━━━━━━━━━━━━━━━━━━━━━━━━━━━━━━━━━━━━\u001b[0m \u001b[32m1.1/1.1 MB\u001b[0m \u001b[31m11.6 MB/s\u001b[0m eta \u001b[36m0:00:00\u001b[0m\n",
            "\u001b[?25h"
          ]
        }
      ]
    },
    {
      "cell_type": "code",
      "source": [
        "import torch\n",
        "import torch.nn as nn\n",
        "from torch.optim import Adam\n",
        "from torch_geometric.data import Data, DataLoader\n",
        "from torch.utils.data import TensorDataset\n",
        "\n",
        "class GATLayer(nn.Module):\n",
        "    src_nodes_dim = 0\n",
        "    trg_nodes_dim = 1\n",
        "    nodes_dim = 0\n",
        "    head_dim = 1\n",
        "\n",
        "    def __init__(self, num_in_features, num_out_features, num_of_heads, concat=True, activation=nn.ELU(), dropout_prob=0.6, add_skip_connection=True, bias=True, log_attention_weights=False):\n",
        "        super().__init__()\n",
        "        self.num_of_heads = num_of_heads\n",
        "        self.num_out_features = num_out_features\n",
        "        self.concat = concat\n",
        "        self.add_skip_connection = add_skip_connection\n",
        "        self.linear_proj = nn.Linear(num_in_features, num_of_heads * num_out_features, bias=False)\n",
        "        self.scoring_fn_target = nn.Parameter(torch.Tensor(1, num_of_heads, num_out_features))\n",
        "        self.scoring_fn_source = nn.Parameter(torch.Tensor(1, num_of_heads, num_out_features))\n",
        "        if bias and concat:\n",
        "            self.bias = nn.Parameter(torch.Tensor(num_of_heads * num_out_features))\n",
        "        elif bias and not concat:\n",
        "            self.bias = nn.Parameter(torch.Tensor(num_out_features))\n",
        "        else:\n",
        "            self.register_parameter('bias', None)\n",
        "        if add_skip_connection:\n",
        "            self.skip_proj = nn.Linear(num_in_features, num_of_heads * num_out_features, bias=False)\n",
        "        else:\n",
        "            self.register_parameter('skip_proj', None)\n",
        "        self.leakyReLU = nn.LeakyReLU(0.2)\n",
        "        self.activation = activation\n",
        "        self.dropout = nn.Dropout(p=dropout_prob)\n",
        "        self.log_attention_weights = log_attention_weights\n",
        "        self.attention_weights = None\n",
        "        self.init_params()\n",
        "\n",
        "    def forward(self, data):\n",
        "        in_nodes_features, edge_index = data\n",
        "        num_of_nodes = in_nodes_features.shape[self.nodes_dim]\n",
        "        assert edge_index.shape[0] == 2, f'Expected edge index with shape=(2,E) got {edge_index.shape}'\n",
        "        in_nodes_features = self.dropout(in_nodes_features)\n",
        "        nodes_features_proj = self.linear_proj(in_nodes_features).view(-1, self.num_of_heads, self.num_out_features)\n",
        "        nodes_features_proj = self.dropout(nodes_features_proj)\n",
        "        scores_source = (nodes_features_proj * self.scoring_fn_source).sum(dim=-1)\n",
        "        scores_target = (nodes_features_proj * self.scoring_fn_target).sum(dim=-1)\n",
        "        scores_source_lifted, scores_target_lifted, nodes_features_proj_lifted = self.lift(scores_source, scores_target, nodes_features_proj, edge_index)\n",
        "        scores_per_edge = self.leakyReLU(scores_source_lifted + scores_target_lifted)\n",
        "        attentions_per_edge = self.neighborhood_aware_softmax(scores_per_edge, edge_index[self.trg_nodes_dim], num_of_nodes)\n",
        "        attentions_per_edge = self.dropout(attentions_per_edge)\n",
        "        nodes_features_proj_lifted_weighted = nodes_features_proj_lifted * attentions_per_edge\n",
        "        out_nodes_features = self.aggregate_neighbors(nodes_features_proj_lifted_weighted, edge_index, in_nodes_features, num_of_nodes)\n",
        "        out_nodes_features = self.skip_concat_bias(attentions_per_edge, in_nodes_features, out_nodes_features)\n",
        "        return (out_nodes_features, edge_index)\n",
        "\n",
        "    def neighborhood_aware_softmax(self, scores_per_edge, trg_index, num_of_nodes):\n",
        "        scores_per_edge = scores_per_edge - scores_per_edge.max()\n",
        "        exp_scores_per_edge = scores_per_edge.exp()\n",
        "        neigborhood_aware_denominator = self.sum_edge_scores_neighborhood_aware(exp_scores_per_edge, trg_index, num_of_nodes)\n",
        "        attentions_per_edge = exp_scores_per_edge / (neigborhood_aware_denominator + 1e-16)\n",
        "        return attentions_per_edge.unsqueeze(-1)\n",
        "\n",
        "    def sum_edge_scores_neighborhood_aware(self, exp_scores_per_edge, trg_index, num_of_nodes):\n",
        "        trg_index_broadcasted = self.explicit_broadcast(trg_index, exp_scores_per_edge)\n",
        "        size = list(exp_scores_per_edge.shape)\n",
        "        size[self.nodes_dim] = num_of_nodes\n",
        "        neighborhood_sums = torch.zeros(size, dtype=exp_scores_per_edge.dtype, device=exp_scores_per_edge.device)\n",
        "        neighborhood_sums.scatter_add_(self.nodes_dim, trg_index_broadcasted, exp_scores_per_edge)\n",
        "        return neighborhood_sums.index_select(self.nodes_dim, trg_index)\n",
        "\n",
        "    def aggregate_neighbors(self, nodes_features_proj_lifted_weighted, edge_index, in_nodes_features, num_of_nodes):\n",
        "        size = list(nodes_features_proj_lifted_weighted.shape)\n",
        "        size[self.nodes_dim] = num_of_nodes\n",
        "        out_nodes_features = torch.zeros(size, dtype=in_nodes_features.dtype, device=in_nodes_features.device)\n",
        "        trg_index_broadcasted = self.explicit_broadcast(edge_index[self.trg_nodes_dim], nodes_features_proj_lifted_weighted)\n",
        "        out_nodes_features.scatter_add_(self.nodes_dim, trg_index_broadcasted, nodes_features_proj_lifted_weighted)\n",
        "        return out_nodes_features\n",
        "\n",
        "    def lift(self, scores_source, scores_target, nodes_features_matrix_proj, edge_index):\n",
        "        src_nodes_index = edge_index[self.src_nodes_dim]\n",
        "        trg_nodes_index = edge_index[self.trg_nodes_dim]\n",
        "        scores_source = scores_source.index_select(self.nodes_dim, src_nodes_index)\n",
        "        scores_target = scores_target.index_select(self.nodes_dim, trg_nodes_index)\n",
        "        nodes_features_matrix_proj_lifted = nodes_features_matrix_proj.index_select(self.nodes_dim, src_nodes_index)\n",
        "        return scores_source, scores_target, nodes_features_matrix_proj_lifted\n",
        "\n",
        "    def explicit_broadcast(self, this, other):\n",
        "        for _ in range(this.dim(), other.dim()):\n",
        "            this = this.unsqueeze(-1)\n",
        "        return this.expand_as(other)\n",
        "\n",
        "    def init_params(self):\n",
        "        nn.init.xavier_uniform_(self.linear_proj.weight)\n",
        "        nn.init.xavier_uniform_(self.scoring_fn_target)\n",
        "        nn.init.xavier_uniform_(self.scoring_fn_source)\n",
        "        if self.bias is not None:\n",
        "            torch.nn.init.zeros_(self.bias)\n",
        "\n",
        "    def skip_concat_bias(self, attention_coefficients, in_nodes_features, out_nodes_features):\n",
        "        if self.log_attention_weights:\n",
        "            self.attention_weights = attention_coefficients\n",
        "        if self.add_skip_connection:\n",
        "            if out_nodes_features.shape[-1] == in_nodes_features.shape[-1]:\n",
        "                out_nodes_features += in_nodes_features.unsqueeze(1)\n",
        "            else:\n",
        "                out_nodes_features += self.skip_proj(in_nodes_features).view(-1, self.num_of_heads, self.num_out_features)\n",
        "        if self.concat:\n",
        "            out_nodes_features = out_nodes_features.view(-1, self.num_of_heads * self.num_out_features)\n",
        "        else:\n",
        "            out_nodes_features = out_nodes_features.mean(dim=self.head_dim)\n",
        "        if self.bias is not None:\n",
        "            out_nodes_features += self.bias\n",
        "        return out_nodes_features if self.activation is None else self.activation(out_nodes_features)\n",
        "\n",
        "class GAT(nn.Module):\n",
        "    def __init__(self, num_of_layers, num_heads_per_layer, num_features_per_layer, add_skip_connection=True, bias=True, dropout=0.6, log_attention_weights=False):\n",
        "        super().__init__()\n",
        "        assert num_of_layers == len(num_heads_per_layer) == len(num_features_per_layer) - 1, f'Enter valid arch params.'\n",
        "        num_heads_per_layer = [1] + num_heads_per_layer\n",
        "        gat_layers = []\n",
        "        for i in range(num_of_layers):\n",
        "            layer = GATLayer(\n",
        "                num_in_features=num_features_per_layer[i] * num_heads_per_layer[i],\n",
        "                num_out_features=num_features_per_layer[i + 1],\n",
        "                num_of_heads=num_heads_per_layer[i + 1],\n",
        "                concat=True if i < num_of_layers - 1 else False,\n",
        "                activation=nn.ELU() if i < num_of_layers - 1 else None,\n",
        "                dropout_prob=dropout,\n",
        "                add_skip_connection=add_skip_connection,\n",
        "                bias=bias,\n",
        "                log_attention_weights=log_attention_weights\n",
        "            )\n",
        "            gat_layers.append(layer)\n",
        "        self.gat_net = nn.Sequential(*gat_layers)\n",
        "\n",
        "    def forward(self, data):\n",
        "        return self.gat_net(data)\n",
        "\n",
        "class QuantumLayer(torch.nn.Module):\n",
        "    def __init__(self, input_dim, output_dim):\n",
        "        super(QuantumLayer, self).__init__()\n",
        "        self.linear = torch.nn.Linear(input_dim, output_dim)\n",
        "\n",
        "    def forward(self, x):\n",
        "        return torch.sigmoid(self.linear(x))\n",
        "\n",
        "\n",
        "class GATWithQuantumLayer(torch.nn.Module):\n",
        "    def __init__(self, num_of_layers, num_heads_per_layer, num_features_per_layer, quantum_layer_dim, add_skip_connection=True, bias=True, dropout=0.6, log_attention_weights=False):\n",
        "        super(GATWithQuantumLayer, self).__init__()\n",
        "        self.gat = GAT(num_of_layers, num_heads_per_layer, num_features_per_layer, add_skip_connection, bias, dropout, log_attention_weights)\n",
        "        gat_output_dim = num_heads_per_layer[-1] * num_features_per_layer[-1]\n",
        "        self.quantum_layer = QuantumLayer(gat_output_dim, quantum_layer_dim)\n",
        "\n",
        "    def forward(self, x, edge_index):\n",
        "        x, edge_index = self.gat((x, edge_index))\n",
        "        x = x.view(x.size(0), -1)  # Ensure the output of GAT is flattened correctly\n",
        "        return self.quantum_layer(x)\n",
        "\n",
        "combined_model = GATWithQuantumLayer(\n",
        "    num_of_layers=2,  # Example value, adjust according to your model\n",
        "    num_heads_per_layer=[8, 1],  # Example value, adjust according to your model\n",
        "    num_features_per_layer=[104, 8, 2],  # Example value, adjust according to your model\n",
        "    quantum_layer_dim=1  # Example value, adjust according to your model\n",
        ").to(device)\n",
        "\n",
        "\n",
        "device = torch.device(\"cuda\" if torch.cuda.is_available() else \"cpu\")\n",
        "\n",
        "# Assuming data is already loaded as node_features, node_labels, edge_index, train_indices, val_indices, test_indices\n",
        "node_features = node_features.to(device)\n",
        "node_labels = node_labels.to(device)\n",
        "edge_index = edge_index.to(device)\n",
        "\n",
        "gat_model = GAT(\n",
        "    num_of_layers=2,\n",
        "    num_heads_per_layer=[8, 1],\n",
        "    num_features_per_layer=[104, 8, 2],\n",
        "    add_skip_connection=True,\n",
        "    bias=True,\n",
        "    dropout=0.6,\n",
        "    log_attention_weights=False\n",
        ").to(device)\n",
        "\n",
        "# combined_model = GATWithQuantumLayer(gat_model, quantum_input_dim=8, quantum_output_dim=2).to(device)\n",
        "\n",
        "optimizer = Adam(combined_model.parameters(), lr=0.005, weight_decay=0.0005)\n",
        "loss_fn = nn.CrossEntropyLoss()\n",
        "\n",
        "train_dataset = Data(x=node_features, edge_index=edge_index, y=node_labels)\n",
        "train_loader = DataLoader(TensorDataset(node_features, node_labels), batch_size=len(node_labels), shuffle=True)\n",
        "\n",
        "\n",
        "def evaluate(model, node_features, edge_index, labels, indices):\n",
        "    model.eval()\n",
        "    with torch.no_grad():\n",
        "        outputs = model(node_features.to(device), edge_index.to(device)).squeeze()\n",
        "        predictions = (outputs > 0.5).float()\n",
        "        accuracy = (predictions[indices] == labels[indices].float().to(device)).sum().item() / len(indices)\n",
        "    return accuracy\n",
        "\n",
        "# BEST_VAL_ACC, BEST_VAL_LOSS, PATIENCE_CNT = [0, float('inf'), 0]  # reset vars used for early stopping\n",
        "# max_epochs = 50\n",
        "# patience_period = 10\n",
        "\n",
        "def train_combined_model():\n",
        "    # global BEST_VAL_ACC, BEST_VAL_LOSS, PATIENCE_CNT\n",
        "    combined_model.train()\n",
        "    optimizer = torch.optim.Adam(combined_model.parameters(), lr=0.001)\n",
        "    criterion = nn.BCELoss()\n",
        "\n",
        "    for epoch in range(max_epochs):\n",
        "        optimizer.zero_grad()\n",
        "        outputs = combined_model(node_features.to(device), edge_index.to(device)).squeeze()\n",
        "        loss = criterion(outputs, node_labels.to(device).float())\n",
        "        loss.backward()\n",
        "        optimizer.step()\n",
        "\n",
        "        # Calculate validation accuracy\n",
        "        val_accuracy = evaluate(combined_model, node_features, edge_index, node_labels, val_indices)\n",
        "\n",
        "        # Calculate test accuracy\n",
        "        test_accuracy = evaluate(combined_model, node_features, edge_index, node_labels, test_indices)\n",
        "\n",
        "        print(f\"Epoch {epoch+1}, Loss: {loss.item():.4f}, Val Acc: {val_accuracy:.3f}, Test Acc: {test_accuracy:.3f}\")\n",
        "\n",
        "\n",
        "# Set the number of epochs\n",
        "max_epochs = 50\n",
        "\n",
        "# Train the model\n",
        "train_combined_model()\n",
        "\n",
        "test_accuracy = evaluate(combined_model, node_features, edge_index, node_labels, test_indices)\n",
        "print(f\"Test Acc: {test_accuracy:.3f}\")\n"
      ],
      "metadata": {
        "id": "lZLYCYAiHnLp",
        "outputId": "9229a985-5719-4709-a0a9-1d49f048cb68",
        "colab": {
          "base_uri": "https://localhost:8080/"
        }
      },
      "execution_count": null,
      "outputs": [
        {
          "output_type": "stream",
          "name": "stderr",
          "text": [
            "/usr/local/lib/python3.10/dist-packages/torch_geometric/deprecation.py:26: UserWarning: 'data.DataLoader' is deprecated, use 'loader.DataLoader' instead\n",
            "  warnings.warn(out)\n"
          ]
        },
        {
          "output_type": "stream",
          "name": "stdout",
          "text": [
            "Epoch 1, Loss: 0.6834, Val Acc: 0.539, Test Acc: 0.573\n",
            "Epoch 2, Loss: 0.6721, Val Acc: 0.626, Test Acc: 0.662\n",
            "Epoch 3, Loss: 0.6646, Val Acc: 0.745, Test Acc: 0.778\n",
            "Epoch 4, Loss: 0.6570, Val Acc: 0.792, Test Acc: 0.817\n",
            "Epoch 5, Loss: 0.6495, Val Acc: 0.839, Test Acc: 0.850\n",
            "Epoch 6, Loss: 0.6420, Val Acc: 0.853, Test Acc: 0.846\n",
            "Epoch 7, Loss: 0.6345, Val Acc: 0.861, Test Acc: 0.847\n",
            "Epoch 8, Loss: 0.6270, Val Acc: 0.868, Test Acc: 0.845\n",
            "Epoch 9, Loss: 0.6195, Val Acc: 0.876, Test Acc: 0.848\n",
            "Epoch 10, Loss: 0.6121, Val Acc: 0.880, Test Acc: 0.847\n",
            "Epoch 11, Loss: 0.6046, Val Acc: 0.883, Test Acc: 0.848\n",
            "Epoch 12, Loss: 0.5971, Val Acc: 0.886, Test Acc: 0.849\n",
            "Epoch 13, Loss: 0.5896, Val Acc: 0.887, Test Acc: 0.850\n",
            "Epoch 14, Loss: 0.5821, Val Acc: 0.889, Test Acc: 0.852\n",
            "Epoch 15, Loss: 0.5745, Val Acc: 0.891, Test Acc: 0.852\n",
            "Epoch 16, Loss: 0.5669, Val Acc: 0.892, Test Acc: 0.853\n",
            "Epoch 17, Loss: 0.5593, Val Acc: 0.892, Test Acc: 0.853\n",
            "Epoch 18, Loss: 0.5517, Val Acc: 0.893, Test Acc: 0.853\n",
            "Epoch 19, Loss: 0.5440, Val Acc: 0.894, Test Acc: 0.853\n",
            "Epoch 20, Loss: 0.5363, Val Acc: 0.894, Test Acc: 0.854\n",
            "Epoch 21, Loss: 0.5286, Val Acc: 0.895, Test Acc: 0.854\n",
            "Epoch 22, Loss: 0.5209, Val Acc: 0.896, Test Acc: 0.854\n",
            "Epoch 23, Loss: 0.5131, Val Acc: 0.897, Test Acc: 0.855\n",
            "Epoch 24, Loss: 0.5053, Val Acc: 0.897, Test Acc: 0.855\n",
            "Epoch 25, Loss: 0.4976, Val Acc: 0.898, Test Acc: 0.855\n",
            "Epoch 26, Loss: 0.4898, Val Acc: 0.898, Test Acc: 0.855\n",
            "Epoch 27, Loss: 0.4821, Val Acc: 0.899, Test Acc: 0.855\n",
            "Epoch 28, Loss: 0.4743, Val Acc: 0.900, Test Acc: 0.856\n",
            "Epoch 29, Loss: 0.4666, Val Acc: 0.900, Test Acc: 0.856\n",
            "Epoch 30, Loss: 0.4590, Val Acc: 0.901, Test Acc: 0.856\n",
            "Epoch 31, Loss: 0.4514, Val Acc: 0.901, Test Acc: 0.857\n",
            "Epoch 32, Loss: 0.4439, Val Acc: 0.902, Test Acc: 0.857\n",
            "Epoch 33, Loss: 0.4364, Val Acc: 0.902, Test Acc: 0.857\n",
            "Epoch 34, Loss: 0.4290, Val Acc: 0.903, Test Acc: 0.858\n",
            "Epoch 35, Loss: 0.4217, Val Acc: 0.903, Test Acc: 0.858\n",
            "Epoch 36, Loss: 0.4146, Val Acc: 0.903, Test Acc: 0.858\n",
            "Epoch 37, Loss: 0.4075, Val Acc: 0.904, Test Acc: 0.859\n",
            "Epoch 38, Loss: 0.4005, Val Acc: 0.904, Test Acc: 0.860\n",
            "Epoch 39, Loss: 0.3937, Val Acc: 0.905, Test Acc: 0.860\n",
            "Epoch 40, Loss: 0.3871, Val Acc: 0.906, Test Acc: 0.861\n",
            "Epoch 41, Loss: 0.3805, Val Acc: 0.907, Test Acc: 0.862\n",
            "Epoch 42, Loss: 0.3742, Val Acc: 0.907, Test Acc: 0.863\n",
            "Epoch 43, Loss: 0.3679, Val Acc: 0.908, Test Acc: 0.864\n",
            "Epoch 44, Loss: 0.3619, Val Acc: 0.909, Test Acc: 0.864\n",
            "Epoch 45, Loss: 0.3560, Val Acc: 0.909, Test Acc: 0.865\n",
            "Epoch 46, Loss: 0.3503, Val Acc: 0.910, Test Acc: 0.865\n",
            "Epoch 47, Loss: 0.3447, Val Acc: 0.910, Test Acc: 0.866\n",
            "Epoch 48, Loss: 0.3394, Val Acc: 0.910, Test Acc: 0.866\n",
            "Epoch 49, Loss: 0.3342, Val Acc: 0.911, Test Acc: 0.867\n",
            "Epoch 50, Loss: 0.3291, Val Acc: 0.911, Test Acc: 0.867\n",
            "Test Acc: 0.867\n"
          ]
        }
      ]
    },
    {
      "cell_type": "markdown",
      "metadata": {
        "id": "okP2_yNfPM1C"
      },
      "source": [
        "# Part 4: Visualizing GAT 🔮\n",
        "\n",
        "Let's start by defining some functions we'll need.\n",
        "\n",
        "The following cell's code snippet will get called multiple times so let's just extract it inside a function - a nice modular design.\n",
        "\n",
        "*Note: the main reason is actually that igraph is having problems with Jupyter so I'm working around it, check out the [original code](https://github.com/gordicaleksa/pytorch-GAT/blob/main/playground.py#L147) if you're curious* 😂"
      ]
    },
    {
      "cell_type": "code",
      "source": [
        "def load_model(model, path, device):\n",
        "    model.load_state_dict(torch.load(path, map_location=device), strict=True)\n",
        "    return model\n"
      ],
      "metadata": {
        "id": "pYPYd7kc6LPC"
      },
      "execution_count": null,
      "outputs": []
    },
    {
      "cell_type": "code",
      "execution_count": null,
      "metadata": {
        "id": "yA0QJ_epPM1D"
      },
      "outputs": [],
      "source": [
        "def gat_forward_pass(model_name, dataset_name, config):\n",
        "    device = torch.device(\"cuda\" if torch.cuda.is_available() else \"cpu\")\n",
        "\n",
        "    # Step 1: Prepare the data\n",
        "    node_features, node_labels, edge_index, _, _, _, num_classes = load_graph_data(config, device)\n",
        "\n",
        "    # Step 2: Prepare the model\n",
        "    model_path = os.path.join(BINARIES_PATH, model_name)\n",
        "    num_input_features = node_features.shape[1]\n",
        "    num_features_per_layer = config['num_features_per_layer']\n",
        "    num_features_per_layer[0] = num_input_features  # Ensure input features match\n",
        "\n",
        "    gat = GAT(\n",
        "        num_of_layers=config['num_of_layers'],\n",
        "        num_heads_per_layer=config['num_heads_per_layer'],\n",
        "        num_features_per_layer=num_features_per_layer,\n",
        "        add_skip_connection=config['add_skip_connection'],\n",
        "        bias=config['bias'],\n",
        "        dropout=config['dropout'],\n",
        "        log_attention_weights=True\n",
        "    ).to(device)\n",
        "\n",
        "    # Load the model state dictionary\n",
        "    load_model(gat, model_path, device)\n",
        "    gat.eval()\n",
        "\n",
        "    with torch.no_grad():\n",
        "        all_nodes_unnormalized_scores, _ = gat((node_features, edge_index))\n",
        "        all_nodes_unnormalized_scores = all_nodes_unnormalized_scores.cpu().numpy()\n",
        "\n",
        "    return all_nodes_unnormalized_scores, edge_index, node_labels, gat, num_classes"
      ]
    },
    {
      "cell_type": "markdown",
      "metadata": {
        "id": "CvQNc0KYPM1D"
      },
      "source": [
        "Nice that one just produces the data that'll get consumed in the downstream visualizations that you'll see defined in the following cells.\n",
        "\n",
        "There's one more helper function that we'll need and we're ready!"
      ]
    },
    {
      "cell_type": "code",
      "execution_count": null,
      "metadata": {
        "id": "iyVqPU8FPM1D"
      },
      "outputs": [],
      "source": [
        "# Draws (but doesn't yet plot) the entropy histogram. If you're confused to why do we have entropy here all of a sudden\n",
        "# bear with me you'll soon understand. Basically it helps us quantify the usefulness of GAT's learned attention pattern.\n",
        "def draw_entropy_histogram(entropy_array, title, color='blue', uniform_distribution=False, num_bins=30):\n",
        "    max_value = np.max(entropy_array)\n",
        "    bar_width = (max_value / num_bins) * (1.0 if uniform_distribution else 0.75)\n",
        "    histogram_values, histogram_bins = np.histogram(entropy_array, bins=num_bins, range=(0.0, max_value))\n",
        "\n",
        "    plt.bar(histogram_bins[:num_bins], histogram_values[:num_bins], width=bar_width, color=color)\n",
        "    plt.xlabel(f'entropy bins')\n",
        "    plt.ylabel(f'# of node neighborhoods')\n",
        "    plt.title(title)"
      ]
    },
    {
      "cell_type": "markdown",
      "metadata": {
        "id": "vo4yF_9ePM1D"
      },
      "source": [
        "Nice, following up is the main function we'll be using to visualize GAT's embeddings (via t-SNE) and entropy histograms:"
      ]
    },
    {
      "cell_type": "code",
      "execution_count": null,
      "metadata": {
        "id": "r_OCvOZOPM1D"
      },
      "outputs": [],
      "source": [
        "from sklearn.manifold import TSNE\n",
        "from scipy.stats import entropy\n",
        "\n",
        "# Define the color mapping for the home network dataset\n",
        "home_network_label_to_color_map = {0: \"red\", 1: \"blue\"}\n",
        "\n",
        "# Let's define an enum as a clean way to pick between different visualization options\n",
        "class VisualizationType(enum.Enum):\n",
        "    ATTENTION = 0,\n",
        "    EMBEDDINGS = 1,\n",
        "    ENTROPY = 2,\n",
        "\n",
        "# Change this line to match the HOME_NETWORK dataset\n",
        "def visualize_gat_properties(model_name=r'gat_000511.pth', dataset_name=DatasetType.HOME_NETWORK.name, visualization_type=VisualizationType.EMBEDDINGS):\n",
        "    all_nodes_unnormalized_scores, edge_index, node_labels, gat, num_classes = gat_forward_pass(model_name, dataset_name, config)\n",
        "\n",
        "    if visualization_type == VisualizationType.EMBEDDINGS:\n",
        "        node_labels = node_labels.cpu().numpy()\n",
        "\n",
        "        # Reduce data size for t-SNE\n",
        "        sample_size = 1000  # Adjust the sample size according to your dataset size and memory constraints\n",
        "        if all_nodes_unnormalized_scores.shape[0] > sample_size:\n",
        "            indices = np.random.choice(all_nodes_unnormalized_scores.shape[0], sample_size, replace=False)\n",
        "            all_nodes_unnormalized_scores = all_nodes_unnormalized_scores[indices]\n",
        "            node_labels = node_labels[indices]\n",
        "\n",
        "        print(\"Running t-SNE...\")\n",
        "        t_sne_embeddings = TSNE(n_components=2, perplexity=30, method='barnes_hut').fit_transform(all_nodes_unnormalized_scores)\n",
        "        print(\"t-SNE completed.\")\n",
        "\n",
        "        fig = plt.figure(figsize=(12, 8), dpi=80)\n",
        "        for class_id in range(num_classes):\n",
        "            plt.scatter(t_sne_embeddings[node_labels == class_id, 0], t_sne_embeddings[node_labels == class_id, 1], s=20, edgecolors='black', linewidths=0.2, label=f'Class {class_id}')\n",
        "        plt.legend()\n",
        "        plt.show()\n",
        "\n",
        "    elif visualization_type == VisualizationType.ENTROPY:\n",
        "        num_heads_per_layer = [layer.num_of_heads for layer in gat.gat_net]\n",
        "        num_layers = len(num_heads_per_layer)\n",
        "\n",
        "        num_of_nodes = len(node_features)\n",
        "        target_node_ids = edge_index[1].cpu().numpy()\n",
        "\n",
        "        # Ensure the directory exists\n",
        "        data_dir_path = 'data_dir_path'\n",
        "        if not os.path.exists(data_dir_path):\n",
        "            os.makedirs(data_dir_path)\n",
        "\n",
        "        for layer_id in range(num_layers):\n",
        "            all_attention_weights = gat.gat_net[layer_id].attention_weights.squeeze(dim=-1).cpu().numpy()\n",
        "\n",
        "            for head_id in range(num_heads_per_layer[layer_id]):\n",
        "                uniform_dist_entropy_list = []\n",
        "                neighborhood_entropy_list = []\n",
        "\n",
        "                for target_node_id in range(num_of_nodes):\n",
        "                    neigborhood_attention = all_attention_weights[target_node_ids == target_node_id].flatten()\n",
        "                    ideal_uniform_attention = np.ones(len(neigborhood_attention)) / len(neigborhood_attention)\n",
        "\n",
        "                    neighborhood_entropy_list.append(entropy(neigborhood_attention, base=2))\n",
        "                    uniform_dist_entropy_list.append(entropy(ideal_uniform_attention, base=2))\n",
        "\n",
        "                title = f'Home Network entropy histogram layer={layer_id}, attention head={head_id}'\n",
        "                draw_entropy_histogram(uniform_dist_entropy_list, title, color='orange', uniform_distribution=True)\n",
        "                draw_entropy_histogram(neighborhood_entropy_list, title, color='dodgerblue')\n",
        "\n",
        "                fig = plt.gcf()\n",
        "                plt.show()\n",
        "                fig.savefig(os.path.join('data_dir_path', f'layer_{layer_id}_head_{head_id}.jpg'))\n",
        "                plt.close()\n",
        "    else:\n",
        "        raise Exception(f'Visualization type {visualization_type} not supported.')\n"
      ]
    },
    {
      "cell_type": "markdown",
      "metadata": {
        "id": "iClEBvfxPM1D"
      },
      "source": [
        "Ok! Let us use finally use it! First up - t-SNE."
      ]
    },
    {
      "cell_type": "markdown",
      "metadata": {
        "id": "WpvLn9wuPM1D"
      },
      "source": [
        "# Visualizing GAT's embeddings using t-SNE 📈"
      ]
    },
    {
      "cell_type": "markdown",
      "metadata": {
        "id": "nZpXkvI5PM1D"
      },
      "source": [
        "t-SNE belongs to a large family of **dimensionality reduction** methods.\n",
        "\n",
        "It got a huge traction in the community because it's simple to use and gives nice results (and probably because it was coauthored by Geoffrey Hinton **khm**)\n",
        "\n",
        "There are other methods like `UMAP` which are newer but haven't gained that much traction (to the best of my knowledge).\n",
        "\n",
        "But enough theory let's see some charts!"
      ]
    },
    {
      "cell_type": "code",
      "execution_count": null,
      "metadata": {
        "scrolled": true,
        "id": "LhBcS0cePM1D",
        "outputId": "b935358e-5588-4045-97f0-f4c06fa46c64",
        "colab": {
          "base_uri": "https://localhost:8080/",
          "height": 634
        }
      },
      "outputs": [
        {
          "output_type": "stream",
          "name": "stderr",
          "text": [
            "/usr/local/lib/python3.10/dist-packages/sklearn/preprocessing/_encoders.py:868: FutureWarning: `sparse` was renamed to `sparse_output` in version 1.2 and will be removed in 1.4. `sparse_output` is ignored unless you leave `sparse` to its default value.\n",
            "  warnings.warn(\n"
          ]
        },
        {
          "output_type": "stream",
          "name": "stdout",
          "text": [
            "Running t-SNE...\n",
            "t-SNE completed.\n"
          ]
        },
        {
          "output_type": "display_data",
          "data": {
            "text/plain": [
              "<Figure size 960x640 with 1 Axes>"
            ],
            "image/png": "[encoded data removed]"
          },
          "metadata": {}
        }
      ],
      "source": [
        "model_name=r'gat_000511.pth'  # This model is checked-in, feel free to use the one you trained\n",
        "dataset_name=DatasetType.HOME_NETWORK.name\n",
        "\n",
        "\n",
        "visualize_gat_properties(\n",
        "        model_name,\n",
        "        dataset_name,\n",
        "        visualization_type=VisualizationType.EMBEDDINGS  # pick between attention, t-SNE embeddings and entropy\n",
        ")"
      ]
    },
    {
      "cell_type": "markdown",
      "metadata": {
        "id": "4lRN3YYRPM1D"
      },
      "source": [
        "Beautiful!\n",
        "\n",
        "What we can see is the following - once we do a forward pass through GAT it transforms the input feature vectors of dimension (number of nodes, number of features per feature vector) = `(2708, 1433)` into `(2708, 7)` because Cora has 7 classes.\n",
        "\n",
        "The classes are: `Genetic Algorithms`, `Reinforcement Learning`, etc. to make it a bit less abstract but ultimately it doesn't matter it would work for any set of 7 classes (People who subscribe to [The AI Epiphany](https://www.youtube.com/c/TheAIEpiphany), *people who.., I'll stop here*).\n",
        "\n",
        "Now once we've got those 7 dimensional vectors we use t-SNE to map them into 2D vectors (*because it's hard to plot 7D vectors you know*). The trick with t-SNE is that it preserves the relationships betweeen the vectors so, roughly, if they were close (however we define the \"closeness\") in the 7D space they'll be close in the 2D space as well.\n",
        "\n",
        "Now you can see that points of the same class (they share the same color) are clustered together! And that's a desirable property because now it's much easier to train a classifier that'll correctly predict the class.\n",
        "\n",
        "---\n",
        "\n",
        "Awesome, now let's switch our focus to attention since we're dealing with Graph **Attention** Network after all."
      ]
    },
    {
      "cell_type": "markdown",
      "metadata": {
        "id": "5t7mqyYIPM1D"
      },
      "source": [
        "# Visualizing neighborhood attention 📣\n",
        "\n",
        "So, you now hopefully understand how GAT roughly works, and so you know that during the aggregation stage every single node assigns an **attention coefficient** to every single one of its neighbors (including itself since we added self edges).\n",
        "\n",
        "Any ideas on what we could visualize? Well let's pick some nodes and see which attention patterns they've learned!\n",
        "\n",
        "The first idea that may pop to your mind is to draw edges **thicker** if the **attention is larger** and vice versa (*well that's also the last idea that pops to my mind*).\n",
        "\n",
        "Let's do it!"
      ]
    },
    {
      "cell_type": "code",
      "execution_count": null,
      "metadata": {
        "scrolled": true,
        "id": "dV1PZ94yPM1D",
        "outputId": "22ef1126-a741-449f-e76b-d9793f167777",
        "colab": {
          "base_uri": "https://localhost:8080/",
          "height": 420
        },
        "collapsed": true
      },
      "outputs": [
        {
          "output_type": "stream",
          "name": "stderr",
          "text": [
            "/usr/local/lib/python3.10/dist-packages/sklearn/preprocessing/_encoders.py:868: FutureWarning: `sparse` was renamed to `sparse_output` in version 1.2 and will be removed in 1.4. `sparse_output` is ignored unless you leave `sparse` to its default value.\n",
            "  warnings.warn(\n"
          ]
        },
        {
          "output_type": "stream",
          "name": "stdout",
          "text": [
            "Highest degree nodes = [ 5574 11072  4867  8202]\n",
            "Max attention weight = 1.0 and min = 1.0\n"
          ]
        },
        {
          "output_type": "error",
          "ename": "AttributeError",
          "evalue": "Plotting not available; please install pycairo or cairocffi",
          "traceback": [
            "\u001b[0;31m---------------------------------------------------------------------------\u001b[0m",
            "\u001b[0;31mAttributeError\u001b[0m                            Traceback (most recent call last)",
            "\u001b[0;32m<ipython-input-95-ce5d9451925d>\u001b[0m in \u001b[0;36m<cell line: 70>\u001b[0;34m()\u001b[0m\n\u001b[1;32m     68\u001b[0m     \u001b[0mprint\u001b[0m\u001b[0;34m(\u001b[0m\u001b[0;34m'Add custom color scheme for your specific dataset. Using igraph default coloring.'\u001b[0m\u001b[0;34m)\u001b[0m\u001b[0;34m\u001b[0m\u001b[0;34m\u001b[0m\u001b[0m\n\u001b[1;32m     69\u001b[0m \u001b[0;34m\u001b[0m\u001b[0m\n\u001b[0;32m---> 70\u001b[0;31m \u001b[0mig\u001b[0m\u001b[0;34m.\u001b[0m\u001b[0mplot\u001b[0m\u001b[0;34m(\u001b[0m\u001b[0mig_graph\u001b[0m\u001b[0;34m,\u001b[0m \u001b[0;34m**\u001b[0m\u001b[0mvisual_style\u001b[0m\u001b[0;34m)\u001b[0m\u001b[0;34m\u001b[0m\u001b[0;34m\u001b[0m\u001b[0m\n\u001b[0m",
            "\u001b[0;32m/usr/local/lib/python3.10/dist-packages/igraph/drawing/__init__.py\u001b[0m in \u001b[0;36mplot\u001b[0;34m(obj, target, bbox, *args, **kwds)\u001b[0m\n\u001b[1;32m    297\u001b[0m     \u001b[0mbackground\u001b[0m \u001b[0;34m=\u001b[0m \u001b[0mkwds\u001b[0m\u001b[0;34m.\u001b[0m\u001b[0mpop\u001b[0m\u001b[0;34m(\u001b[0m\u001b[0;34m\"background\"\u001b[0m\u001b[0;34m,\u001b[0m \u001b[0;34m\"white\"\u001b[0m\u001b[0;34m)\u001b[0m\u001b[0;34m\u001b[0m\u001b[0;34m\u001b[0m\u001b[0m\n\u001b[1;32m    298\u001b[0m     \u001b[0mmargin\u001b[0m \u001b[0;34m=\u001b[0m \u001b[0mfloat\u001b[0m\u001b[0;34m(\u001b[0m\u001b[0mkwds\u001b[0m\u001b[0;34m.\u001b[0m\u001b[0mpop\u001b[0m\u001b[0;34m(\u001b[0m\u001b[0;34m\"margin\"\u001b[0m\u001b[0;34m,\u001b[0m \u001b[0;36m20\u001b[0m\u001b[0;34m)\u001b[0m\u001b[0;34m)\u001b[0m\u001b[0;34m\u001b[0m\u001b[0;34m\u001b[0m\u001b[0m\n\u001b[0;32m--> 299\u001b[0;31m     result = CairoPlot(\n\u001b[0m\u001b[1;32m    300\u001b[0m         \u001b[0mtarget\u001b[0m\u001b[0;34m=\u001b[0m\u001b[0mtarget\u001b[0m\u001b[0;34m,\u001b[0m\u001b[0;34m\u001b[0m\u001b[0;34m\u001b[0m\u001b[0m\n\u001b[1;32m    301\u001b[0m         \u001b[0mbbox\u001b[0m\u001b[0;34m=\u001b[0m\u001b[0mbbox\u001b[0m\u001b[0;34m,\u001b[0m\u001b[0;34m\u001b[0m\u001b[0;34m\u001b[0m\u001b[0m\n",
            "\u001b[0;32m/usr/local/lib/python3.10/dist-packages/igraph/drawing/cairo/plot.py\u001b[0m in \u001b[0;36m__init__\u001b[0;34m(self, target, bbox, palette, background)\u001b[0m\n\u001b[1;32m    146\u001b[0m         \u001b[0;32mif\u001b[0m \u001b[0mtarget\u001b[0m \u001b[0;32mis\u001b[0m \u001b[0;32mNone\u001b[0m\u001b[0;34m:\u001b[0m\u001b[0;34m\u001b[0m\u001b[0;34m\u001b[0m\u001b[0m\n\u001b[1;32m    147\u001b[0m             \u001b[0mself\u001b[0m\u001b[0;34m.\u001b[0m\u001b[0m_need_tmpfile\u001b[0m \u001b[0;34m=\u001b[0m \u001b[0;32mTrue\u001b[0m\u001b[0;34m\u001b[0m\u001b[0;34m\u001b[0m\u001b[0m\n\u001b[0;32m--> 148\u001b[0;31m             self._surface = cairo.ImageSurface(\n\u001b[0m\u001b[1;32m    149\u001b[0m                 \u001b[0mcairo\u001b[0m\u001b[0;34m.\u001b[0m\u001b[0mFORMAT_ARGB32\u001b[0m\u001b[0;34m,\u001b[0m \u001b[0mint\u001b[0m\u001b[0;34m(\u001b[0m\u001b[0mself\u001b[0m\u001b[0;34m.\u001b[0m\u001b[0mbbox\u001b[0m\u001b[0;34m.\u001b[0m\u001b[0mwidth\u001b[0m\u001b[0;34m)\u001b[0m\u001b[0;34m,\u001b[0m \u001b[0mint\u001b[0m\u001b[0;34m(\u001b[0m\u001b[0mself\u001b[0m\u001b[0;34m.\u001b[0m\u001b[0mbbox\u001b[0m\u001b[0;34m.\u001b[0m\u001b[0mheight\u001b[0m\u001b[0;34m)\u001b[0m\u001b[0;34m\u001b[0m\u001b[0;34m\u001b[0m\u001b[0m\n\u001b[1;32m    150\u001b[0m             )\n",
            "\u001b[0;32m/usr/local/lib/python3.10/dist-packages/igraph/drawing/utils.py\u001b[0m in \u001b[0;36m__getattr__\u001b[0;34m(self, _)\u001b[0m\n\u001b[1;32m    426\u001b[0m \u001b[0;34m\u001b[0m\u001b[0m\n\u001b[1;32m    427\u001b[0m     \u001b[0;32mdef\u001b[0m \u001b[0m__getattr__\u001b[0m\u001b[0;34m(\u001b[0m\u001b[0mself\u001b[0m\u001b[0;34m,\u001b[0m \u001b[0m_\u001b[0m\u001b[0;34m)\u001b[0m\u001b[0;34m:\u001b[0m\u001b[0;34m\u001b[0m\u001b[0;34m\u001b[0m\u001b[0m\n\u001b[0;32m--> 428\u001b[0;31m         \u001b[0;32mraise\u001b[0m \u001b[0mAttributeError\u001b[0m\u001b[0;34m(\u001b[0m\u001b[0mself\u001b[0m\u001b[0;34m.\u001b[0m\u001b[0m_message\u001b[0m\u001b[0;34m)\u001b[0m\u001b[0;34m\u001b[0m\u001b[0;34m\u001b[0m\u001b[0m\n\u001b[0m\u001b[1;32m    429\u001b[0m \u001b[0;34m\u001b[0m\u001b[0m\n\u001b[1;32m    430\u001b[0m     \u001b[0;32mdef\u001b[0m \u001b[0m__call__\u001b[0m\u001b[0;34m(\u001b[0m\u001b[0mself\u001b[0m\u001b[0;34m,\u001b[0m \u001b[0m_\u001b[0m\u001b[0;34m)\u001b[0m\u001b[0;34m:\u001b[0m\u001b[0;34m\u001b[0m\u001b[0;34m\u001b[0m\u001b[0m\n",
            "\u001b[0;31mAttributeError\u001b[0m: Plotting not available; please install pycairo or cairocffi"
          ]
        }
      ],
      "source": [
        "# Again, unfortunately, igraph is having some problems running in Jupyter so I have to flatten out the content here\n",
        "# including the for loops - no for loops with igraph in Jupyter folks.\n",
        "\n",
        "# Fetch the data we'll need to create visualizations\n",
        "all_nodes_unnormalized_scores, edge_index, node_labels, gat, num_classes = gat_forward_pass(model_name, dataset_name, config)\n",
        "\n",
        "# The number of nodes for which we want to visualize their attention over neighboring nodes\n",
        "num_nodes_of_interest = 4  # 4 is an arbitrary number you can play with these numbers\n",
        "head_to_visualize = 0  # plot attention from this multi-head attention's head (last layer only has a single head)\n",
        "gat_layer_id = 1  # plot attention from this GAT layer (since our GAT only has 2 layers this is the last layer)\n",
        "\n",
        "# Build up the complete graph\n",
        "# node_features shape = (N, FIN), where N is the number of nodes and FIN number of input features\n",
        "total_num_of_nodes = len(node_features)\n",
        "complete_graph = ig.Graph()\n",
        "complete_graph.add_vertices(total_num_of_nodes)  # igraph creates nodes with ids [0, total_num_of_nodes - 1]\n",
        "edge_index_tuples = list(zip(edge_index[0, :], edge_index[1, :]))  # igraph requires this format\n",
        "complete_graph.add_edges(edge_index_tuples)\n",
        "\n",
        "# Pick the target nodes to plot (nodes with highest degree + random nodes)\n",
        "# Note: there could be an overlap between random nodes and nodes with highest degree - but highly unlikely\n",
        "highest_degree_node_ids = np.argpartition(complete_graph.degree(), -num_nodes_of_interest)[-num_nodes_of_interest:]\n",
        "random_node_ids = np.random.randint(low=0, high=total_num_of_nodes, size=num_nodes_of_interest)\n",
        "\n",
        "print(f'Highest degree nodes = {highest_degree_node_ids}')\n",
        "\n",
        "target_node_ids = edge_index[1]\n",
        "source_nodes = edge_index[0]\n",
        "\n",
        "# Pick the node id you want to visualize the attention for!\n",
        "target_node_id = 306  # 306 is the 2nd highest degree node\n",
        "\n",
        "# Step 1: Find the neighboring nodes to the target node\n",
        "src_nodes_indices = torch.eq(target_node_ids, target_node_id)\n",
        "source_node_ids = source_nodes[src_nodes_indices].cpu().numpy()\n",
        "size_of_neighborhood = len(source_node_ids)\n",
        "\n",
        "# Ensure target_node_id is in the source_node_ids\n",
        "if target_node_id not in source_node_ids:\n",
        "    source_node_ids = np.append(source_node_ids, target_node_id)\n",
        "    size_of_neighborhood += 1\n",
        "\n",
        "# Step 2: Fetch their labels\n",
        "labels = node_labels[source_node_ids].cpu().numpy()\n",
        "\n",
        "# Step 3: Fetch the attention weights for edges (attention is logged during GAT's forward pass above)\n",
        "# attention shape = (N, NH, 1) -> (N, NH) - we just squeeze the last dim it's superfluous\n",
        "all_attention_weights = gat.gat_net[gat_layer_id].attention_weights.squeeze(dim=-1)\n",
        "attention_weights = all_attention_weights[src_nodes_indices, head_to_visualize].cpu().numpy()\n",
        "print(f'Max attention weight = {np.max(attention_weights)} and min = {np.min(attention_weights)}')\n",
        "attention_weights /= np.max(attention_weights)  # rescale the biggest weight to 1 for nicer plotting\n",
        "\n",
        "# Build up the neighborhood graph whose attention we want to visualize\n",
        "id_to_igraph_id = dict(zip(source_node_ids, range(len(source_node_ids))))\n",
        "ig_graph = ig.Graph()\n",
        "ig_graph.add_vertices(size_of_neighborhood)\n",
        "ig_graph.add_edges([(id_to_igraph_id[neighbor], id_to_igraph_id[target_node_id]) for neighbor in source_node_ids])\n",
        "\n",
        "# Prepare the visualization settings dictionary and plot\n",
        "visual_style = {\n",
        "    \"edge_width\": attention_weights,  # make edges as thick as the corresponding attention weight\n",
        "    \"layout\": ig_graph.layout_reingold_tilford_circular()  # layout for tree-like graphs\n",
        "}\n",
        "# This is the only part that's specific to the dataset\n",
        "if dataset_name.lower() == DatasetType.HOME_NETWORK.name.lower():\n",
        "    visual_style[\"vertex_color\"] = [home_network_label_to_color_map[label] for label in labels]\n",
        "else:\n",
        "    print('Add custom color scheme for your specific dataset. Using igraph default coloring.')\n",
        "\n",
        "ig.plot(ig_graph, **visual_style)"
      ]
    },
    {
      "cell_type": "markdown",
      "metadata": {
        "id": "BKVxrZ2WPM1D"
      },
      "source": [
        "Beautiful! 🎉😍\n",
        "\n",
        "But have you noticed anything, let's call it, weird? All the edges have the same thickness? What's up with that?\n",
        "\n",
        "Well it turns out that on Cora constant attention i.e. the same attention coefficients over the neighborhood does a great job.\n",
        "\n",
        "On some different graph dataset that is not `homophilic` we'd have more interesting attention patterns - check out the other script for PPI.\n",
        "\n",
        "But until then, there is one more way to understand whether GAT is learning interesting attention patterns, and that brings us to entropy histograms!"
      ]
    },
    {
      "cell_type": "markdown",
      "metadata": {
        "id": "DegKUriWPM1D"
      },
      "source": [
        "# Visualizing entropy histograms 📊\n",
        "\n",
        "So, I hear you say, wait `entropy`, what? How did [Claude Shannon](http://people.math.harvard.edu/~ctm/home/text/others/shannon/entropy/entropy.pdf) find his way in?\n",
        "\n",
        "Well it's not that hard. The attention coefficients sum up to 1 - they form a probability distribution. Where there is a probability distribution you can calculate the entropy. And the entropy quantifies the amount of information in a distribution (for my uber geeks - it's an expected value of self-information 🤓).\n",
        "\n",
        "Check out this [amazing video](https://www.youtube.com/watch?v=ErfnhcEV1O8) if you're not familiar with the concept of entropy, but actually you don't need to understand the theory of entropy so much in order to understand why we're doing this.\n",
        "\n",
        "The main idea is the following:\n",
        "\n",
        "If we have a **\"hypothetical\" GAT** that has a const attention over every node's neighborhood (i.e. **all distributions are uniform**), and we calculate the entropy (whatever that may be) of each and every neighborhood, and we make a histogram out of those numbers - **how different are the histograms** coming from it compared to the GAT we just trained?\n",
        "\n",
        "If the answer is they completely overlap, well that means our GAT has got uniform attention patterns. The smaller the overlap the less uniform the distributions are. We don't care about the information, per se, we care about how much the histograms **match**.\n",
        "\n",
        "Helpfully that brings some clarity into your mind. With that out of the way let's visualize the damn thing:"
      ]
    },
    {
      "cell_type": "code",
      "execution_count": null,
      "metadata": {
        "id": "BEATQZZqPM1E",
        "outputId": "efac72ff-6511-4c9c-c64b-706b4c5796e1",
        "colab": {
          "base_uri": "https://localhost:8080/",
          "height": 1000
        }
      },
      "outputs": [
        {
          "output_type": "stream",
          "name": "stderr",
          "text": [
            "/usr/local/lib/python3.10/dist-packages/sklearn/preprocessing/_encoders.py:868: FutureWarning: `sparse` was renamed to `sparse_output` in version 1.2 and will be removed in 1.4. `sparse_output` is ignored unless you leave `sparse` to its default value.\n",
            "  warnings.warn(\n"
          ]
        },
        {
          "output_type": "display_data",
          "data": {
            "text/plain": [
              "<Figure size 640x480 with 1 Axes>"
            ],
            "image/png": "[encoded data removed]"
          },
          "metadata": {}
        },
        {
          "output_type": "display_data",
          "data": {
            "text/plain": [
              "<Figure size 640x480 with 1 Axes>"
            ],
            "image/png": "[encoded data removed]"
          },
          "metadata": {}
        },
        {
          "output_type": "display_data",
          "data": {
            "text/plain": [
              "<Figure size 640x480 with 1 Axes>"
            ],
            "image/png": "[encoded data removed]"
          },
          "metadata": {}
        },
        {
          "output_type": "display_data",
          "data": {
            "text/plain": [
              "<Figure size 640x480 with 1 Axes>"
            ],
            "image/png": "[encoded data removed]"
          },
          "metadata": {}
        },
        {
          "output_type": "display_data",
          "data": {
            "text/plain": [
              "<Figure size 640x480 with 1 Axes>"
            ],
            "image/png": "[encoded data removed]"
          },
          "metadata": {}
        },
        {
          "output_type": "display_data",
          "data": {
            "text/plain": [
              "<Figure size 640x480 with 1 Axes>"
            ],
            "image/png": "[encoded data removed]"
          },
          "metadata": {}
        },
        {
          "output_type": "display_data",
          "data": {
            "text/plain": [
              "<Figure size 640x480 with 1 Axes>"
            ],
            "image/png": "[encoded data removed]"
          },
          "metadata": {}
        },
        {
          "output_type": "display_data",
          "data": {
            "text/plain": [
              "<Figure size 640x480 with 1 Axes>"
            ],
            "image/png": "[encoded data removed]"
          },
          "metadata": {}
        },
        {
          "output_type": "display_data",
          "data": {
            "text/plain": [
              "<Figure size 640x480 with 1 Axes>"
            ],
            "image/png": "[encoded data removed]"
          },
          "metadata": {}
        }
      ],
      "source": [
        "visualize_gat_properties(\n",
        "        model_name,\n",
        "        dataset_name,\n",
        "        visualization_type=VisualizationType.ENTROPY  # pick between attention, t-SNE embeddings and entropy\n",
        ")"
      ]
    },
    {
      "cell_type": "markdown",
      "metadata": {
        "id": "9UiznHAbPM1E"
      },
      "source": [
        "And voilà, the light blue histograms (trained GAT) completely match the orange ones (uniform attention GAT).\n",
        "\n",
        "If the previous visualization with edge thickness plotted didn't convince you I'm sure that entropy will! (*laughs in kilo bits per cringe*)\n",
        "\n",
        "The idea for this visualization came from [this blog post](https://www.dgl.ai/blog/2019/02/17/gat.html) recommended to me by Petar Veličković.\n",
        "\n",
        "---\n",
        "\n",
        "Phew!!! That was a mouthful! If you stayed with me until here, **congrats!** (achievement unlocked - GAT master 😍)\n",
        "\n",
        "Take your time to analyze this notebook. This is not a toy project, it took me ~3 weeks to finish it <br/>\n",
        "so don't expect to understand everything in 30 minutes unless you're really familiar with most of the concepts mentioned here.\n",
        "\n",
        "And last but not least!\n",
        "\n",
        "# Connect with me\n",
        "\n",
        "I share lots of useful (I hope so at least!) content on LinkedIn, Twitter, YouTube and Medium. <br/>\n",
        "So feel free to connect with me there:\n",
        "1. My [LinkedIn](https://www.linkedin.com/in/aleksagordic) and [Twitter](https://twitter.com/gordic_aleksa) profiles\n",
        "2. My YouTube channel - [The AI Epiphany](https://www.youtube.com/c/TheAiEpiphany)\n",
        "3. My [Medium](https://gordicaleksa.medium.com/) profile\n",
        "\n",
        "Also do drop me a message if you found this useful or if you think I could've done something better! <br/>\n",
        "I always like getting some feedback on the work I do.\n",
        "\n",
        "If you notice some bugs/errors feel free to **open up an issue** or even **submit a pull request**.\n",
        "\n",
        "# Additional resources\n",
        "\n",
        "If you're interested in learning more about GNNs there are many awesome resources out there.\n",
        "\n",
        "* Check out [Sergey Ivanov's newsletter](https://graphml.substack.com/p/issue-1-introduction-pac-isometry-over-smoothing-and-evolution-of-the-field-265283)\n",
        "* [Michael Bronstein's](https://medium.com/@michael.bronstein) blog posts\n",
        "\n",
        "And of course watch my videos:\n",
        "* [My overview of the GCN paper](https://www.youtube.com/watch?v=VyIOfIglrUM)\n",
        "* [My overview of the GraphSAGE paper](https://www.youtube.com/watch?v=vinQCnizqDA)\n",
        "* [My overview of the PinSage paper](https://www.youtube.com/watch?v=ed0NJdqwEyg)\n",
        "* [My overview of Temporal Graph Networks (TGN)](https://www.youtube.com/watch?v=0tw66aTfWaI)\n",
        "\n",
        "Also, follow GNN experts on Twitter. That's a good strategy to stay in touch with the field. Check out the people I follow that's better than me cherry-picking some names here.\n",
        "\n",
        "*Note: I didn't do it justice by only linking Michael and Sergey - I'll probably create a video where I'll explain how I approached learning about GNNs and various different resources I leveraged.*"
      ]
    }
  ],
  "metadata": {
    "kernelspec": {
      "display_name": "Python 3",
      "name": "python3"
    },
    "language_info": {
      "name": "python"
    },
    "colab": {
      "provenance": [],
      "gpuType": "T4",
      "machine_shape": "hm"
    },
    "accelerator": "GPU"
  },
  "nbformat": 4,
  "nbformat_minor": 0
}